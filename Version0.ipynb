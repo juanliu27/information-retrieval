{
 "cells": [
  {
   "cell_type": "code",
   "execution_count": 1,
   "metadata": {},
   "outputs": [
    {
     "name": "stderr",
     "output_type": "stream",
     "text": [
      "C:\\Users\\JYZ\\anaconda3\\lib\\site-packages\\requests\\__init__.py:89: RequestsDependencyWarning: urllib3 (1.26.8) or chardet (3.0.4) doesn't match a supported version!\n",
      "  warnings.warn(\"urllib3 ({}) or chardet ({}) doesn't match a supported \"\n"
     ]
    },
    {
     "name": "stdout",
     "output_type": "stream",
     "text": [
      "['迄今最好的Redmi轻薄本！Redmi Book Pro 15 2022评测', 'AX6性价比之王继任者！Redmi AX5400路由评测', '快科技硬件狗狗3.0新版发布：跑分花开两朵', '比DDR4价格贵一倍 DDR5内存加速：AMD、Intel同时发力', '2.7万字！App协议内容长度超本科论文：你看完过吗']\n"
     ]
    }
   ],
   "source": [
    "import requests \n",
    "from bs4 import BeautifulSoup\n",
    "\n",
    "url='https://www.mydrivers.com/'\n",
    "response= requests.get(url).content.decode('utf-8')\n",
    "soup= BeautifulSoup(response, 'html.parser')\n",
    "content=soup.find_all('span',class_='titl')\n",
    "titles=[]\n",
    "for i in content:\n",
    "    title=i.find('a')\n",
    "    titles.append(title.text)\n",
    "print(titles[:5])"
   ]
  },
  {
   "cell_type": "code",
   "execution_count": 2,
   "metadata": {},
   "outputs": [],
   "source": [
    "with open('d://python data/titles.txt','w') as f:\n",
    "    for line in titles:\n",
    "        f.write(''.join(line)+'\\n')"
   ]
  },
  {
   "cell_type": "code",
   "execution_count": 3,
   "metadata": {},
   "outputs": [
    {
     "name": "stdout",
     "output_type": "stream",
     "text": [
      "511\n"
     ]
    }
   ],
   "source": [
    "with open('d://python data/titles.txt') as f:\n",
    "    title_list= f.read().split('\\n') #用换行符分割\n",
    "print(len(title_list))"
   ]
  },
  {
   "cell_type": "code",
   "execution_count": 4,
   "metadata": {},
   "outputs": [
    {
     "name": "stdout",
     "output_type": "stream",
     "text": [
      "[10, 16, 44, 45, 76, 88, 217, 296, 300, 301, 308, 313, 328, 334, 335, 338, 339, 341, 343, 457]\n"
     ]
    }
   ],
   "source": [
    "keyword='iphone'\n",
    "result_list=[]\n",
    "for tid, item in enumerate(title_list):\n",
    "    if keyword.lower() in item.lower(): #lower转小写\n",
    "        result_list.append(tid)\n",
    "print (result_list)\n",
    "#输出的是序号"
   ]
  },
  {
   "cell_type": "code",
   "execution_count": 5,
   "metadata": {
    "scrolled": true
   },
   "outputs": [
    {
     "name": "stdout",
     "output_type": "stream",
     "text": [
      "1,曝苹果正备战iPhone 14！A15/A16芯片各备货5000万颗\n",
      "2,富士康深圳工厂暂停生产iPhone 备援厂区已工作：果粉放心\n",
      "3,曝iPhone14系列用老芯片：仅Pro机型采用A16 标准版仍是A15\n",
      "4,苹果代工巨头深圳工厂暂停生产！iPhone产量难了\n",
      "5,四款齐发！iPhone 14核心配置曝光：苹果逼你买贵的节奏\n",
      "6,苹果差别对待！iPhone 14系列内存大曝光：入门版被阉割\n",
      "7,iPhone 13 Pro做不到 Redmi K50系列手机首批支持两大绝技\n",
      "8,曝苹果正备战iPhone 14！A15/A16芯片各备货5000万颗\n",
      "9,曝iPhone14系列用老芯片：仅Pro机型采用A16 标准版仍是A15\n",
      "10,苹果代工巨头深圳工厂暂停生产！iPhone产量难了\n",
      "11,四款齐发！iPhone 14核心配置曝光：苹果逼你买贵的节奏\n",
      "12,苹果差别对待！iPhone 14系列内存大曝光：入门版被阉割\n",
      "13,iPhone 13 Pro做不到 Redmi K50系列手机首批支持两大绝技\n",
      "14,5999元起！iPhone 13新版真机上手：全新配色有爱吗？\n",
      "15,大V实测iPhone 13苍岭绿已预装iOS 15.4：能戴口罩解锁\n",
      "16,便宜500！拼多多百亿补贴iPhone 13绿色、iPhone SE等上架\n",
      "17,曝华为将推新款25W 快充充电器 网友：可以给iPhone\n",
      "18,iPhone SE是时候说再见了！慎入\n",
      "19,安卓都把风扇做进手机了 为什么iPhone还不重视散热\n",
      "20,富士康深圳工厂暂停生产iPhone 备援厂区已工作：果粉放心\n"
     ]
    }
   ],
   "source": [
    "count =1\n",
    "for item in result_list:\n",
    "    print(f'{count},{title_list[item]}')\n",
    "    count+=1"
   ]
  },
  {
   "attachments": {},
   "cell_type": "markdown",
   "metadata": {},
   "source": [
    "### 关键词高亮显示"
   ]
  },
  {
   "cell_type": "code",
   "execution_count": 7,
   "metadata": {},
   "outputs": [
    {
     "data": {
      "text/html": [
       "1、曝苹果正备战<span style=\"color:blue\">iPhone</span> 14！A15/A16芯片各备货5000万颗"
      ],
      "text/plain": [
       "<IPython.core.display.HTML object>"
      ]
     },
     "metadata": {},
     "output_type": "display_data"
    },
    {
     "data": {
      "text/html": [
       "2、富士康深圳工厂暂停生产<span style=\"color:blue\">iPhone</span> 备援厂区已工作：果粉放心"
      ],
      "text/plain": [
       "<IPython.core.display.HTML object>"
      ]
     },
     "metadata": {},
     "output_type": "display_data"
    },
    {
     "data": {
      "text/html": [
       "3、曝<span style=\"color:blue\">iPhone</span>14系列用老芯片：仅Pro机型采用A16 标准版仍是A15"
      ],
      "text/plain": [
       "<IPython.core.display.HTML object>"
      ]
     },
     "metadata": {},
     "output_type": "display_data"
    },
    {
     "data": {
      "text/html": [
       "4、苹果代工巨头深圳工厂暂停生产！<span style=\"color:blue\">iPhone</span>产量难了"
      ],
      "text/plain": [
       "<IPython.core.display.HTML object>"
      ]
     },
     "metadata": {},
     "output_type": "display_data"
    },
    {
     "data": {
      "text/html": [
       "5、四款齐发！<span style=\"color:blue\">iPhone</span> 14核心配置曝光：苹果逼你买贵的节奏"
      ],
      "text/plain": [
       "<IPython.core.display.HTML object>"
      ]
     },
     "metadata": {},
     "output_type": "display_data"
    },
    {
     "data": {
      "text/html": [
       "6、苹果差别对待！<span style=\"color:blue\">iPhone</span> 14系列内存大曝光：入门版被阉割"
      ],
      "text/plain": [
       "<IPython.core.display.HTML object>"
      ]
     },
     "metadata": {},
     "output_type": "display_data"
    },
    {
     "data": {
      "text/html": [
       "7、<span style=\"color:blue\">iPhone</span> 13 Pro做不到 Redmi K50系列手机首批支持两大绝技"
      ],
      "text/plain": [
       "<IPython.core.display.HTML object>"
      ]
     },
     "metadata": {},
     "output_type": "display_data"
    },
    {
     "data": {
      "text/html": [
       "8、曝苹果正备战<span style=\"color:blue\">iPhone</span> 14！A15/A16芯片各备货5000万颗"
      ],
      "text/plain": [
       "<IPython.core.display.HTML object>"
      ]
     },
     "metadata": {},
     "output_type": "display_data"
    },
    {
     "data": {
      "text/html": [
       "9、曝<span style=\"color:blue\">iPhone</span>14系列用老芯片：仅Pro机型采用A16 标准版仍是A15"
      ],
      "text/plain": [
       "<IPython.core.display.HTML object>"
      ]
     },
     "metadata": {},
     "output_type": "display_data"
    },
    {
     "data": {
      "text/html": [
       "10、苹果代工巨头深圳工厂暂停生产！<span style=\"color:blue\">iPhone</span>产量难了"
      ],
      "text/plain": [
       "<IPython.core.display.HTML object>"
      ]
     },
     "metadata": {},
     "output_type": "display_data"
    },
    {
     "data": {
      "text/html": [
       "11、四款齐发！<span style=\"color:blue\">iPhone</span> 14核心配置曝光：苹果逼你买贵的节奏"
      ],
      "text/plain": [
       "<IPython.core.display.HTML object>"
      ]
     },
     "metadata": {},
     "output_type": "display_data"
    },
    {
     "data": {
      "text/html": [
       "12、苹果差别对待！<span style=\"color:blue\">iPhone</span> 14系列内存大曝光：入门版被阉割"
      ],
      "text/plain": [
       "<IPython.core.display.HTML object>"
      ]
     },
     "metadata": {},
     "output_type": "display_data"
    },
    {
     "data": {
      "text/html": [
       "13、<span style=\"color:blue\">iPhone</span> 13 Pro做不到 Redmi K50系列手机首批支持两大绝技"
      ],
      "text/plain": [
       "<IPython.core.display.HTML object>"
      ]
     },
     "metadata": {},
     "output_type": "display_data"
    },
    {
     "data": {
      "text/html": [
       "14、5999元起！<span style=\"color:blue\">iPhone</span> 13新版真机上手：全新配色有爱吗？"
      ],
      "text/plain": [
       "<IPython.core.display.HTML object>"
      ]
     },
     "metadata": {},
     "output_type": "display_data"
    },
    {
     "data": {
      "text/html": [
       "15、大V实测<span style=\"color:blue\">iPhone</span> 13苍岭绿已预装iOS 15.4：能戴口罩解锁"
      ],
      "text/plain": [
       "<IPython.core.display.HTML object>"
      ]
     },
     "metadata": {},
     "output_type": "display_data"
    },
    {
     "data": {
      "text/html": [
       "16、便宜500！拼多多百亿补贴<span style=\"color:blue\">iPhone</span> 13绿色、<span style=\"color:blue\">iPhone</span> SE等上架"
      ],
      "text/plain": [
       "<IPython.core.display.HTML object>"
      ]
     },
     "metadata": {},
     "output_type": "display_data"
    },
    {
     "data": {
      "text/html": [
       "17、曝华为将推新款25W 快充充电器 网友：可以给<span style=\"color:blue\">iPhone</span>"
      ],
      "text/plain": [
       "<IPython.core.display.HTML object>"
      ]
     },
     "metadata": {},
     "output_type": "display_data"
    },
    {
     "data": {
      "text/html": [
       "18、<span style=\"color:blue\">iPhone</span> SE是时候说再见了！慎入"
      ],
      "text/plain": [
       "<IPython.core.display.HTML object>"
      ]
     },
     "metadata": {},
     "output_type": "display_data"
    },
    {
     "data": {
      "text/html": [
       "19、安卓都把风扇做进手机了 为什么<span style=\"color:blue\">iPhone</span>还不重视散热"
      ],
      "text/plain": [
       "<IPython.core.display.HTML object>"
      ]
     },
     "metadata": {},
     "output_type": "display_data"
    },
    {
     "data": {
      "text/html": [
       "20、富士康深圳工厂暂停生产<span style=\"color:blue\">iPhone</span> 备援厂区已工作：果粉放心"
      ],
      "text/plain": [
       "<IPython.core.display.HTML object>"
      ]
     },
     "metadata": {},
     "output_type": "display_data"
    }
   ],
   "source": [
    "from IPython.core.display import display,HTML\n",
    "\n",
    "def highlight (text,keyword):\n",
    "    idx=text.lower().find(keyword.lower())\n",
    "    result= text\n",
    "    if idx >=0: \n",
    "        ori_keyword= text[idx:idx+len(keyword)] #切片需要修改的内容\n",
    "        result=text.replace(ori_keyword,'<span style=\"color:blue\">{}</span>'.format(ori_keyword)) #对需要修改的内容进行替换\n",
    "    return result\n",
    "\n",
    "count =1\n",
    "for item in result_list:\n",
    "    display(HTML(f'{count}、{highlight(title_list[item],keyword)}'))\n",
    "    count+=1"
   ]
  },
  {
   "cell_type": "code",
   "execution_count": 8,
   "metadata": {
    "scrolled": true
   },
   "outputs": [
    {
     "name": "stdout",
     "output_type": "stream",
     "text": [
      "[[338, 2], [10, 1], [16, 1], [44, 1], [45, 1], [76, 1], [88, 1], [217, 1], [296, 1], [300, 1], [301, 1], [308, 1], [313, 1], [328, 1], [334, 1], [335, 1], [339, 1], [341, 1], [343, 1], [457, 1]]\n"
     ]
    }
   ],
   "source": [
    "def score(text,keyword):\n",
    "    result= text.lower().count(keyword.lower()) #打分函数\n",
    "    return result\n",
    "\n",
    "keyword='iphone'\n",
    "result_list=[]\n",
    "for tid,title in enumerate(title_list):\n",
    "    if keyword.lower() in title.lower():\n",
    "        result_list.append([tid,score(title,keyword)])\n",
    "result_list.sort(key=lambda x:x[1],reverse=True)\n",
    "print(result_list)"
   ]
  },
  {
   "cell_type": "code",
   "execution_count": 9,
   "metadata": {},
   "outputs": [
    {
     "data": {
      "text/plain": [
       "'便宜500！拼多多百亿补贴iPhone 13绿色、iPhone SE等上架'"
      ]
     },
     "execution_count": 9,
     "metadata": {},
     "output_type": "execute_result"
    }
   ],
   "source": [
    "title_list[338]"
   ]
  },
  {
   "cell_type": "markdown",
   "metadata": {},
   "source": [
    "1、打分函数score 2、查询函数search  3、高亮函数highlight 4、展示函数render"
   ]
  },
  {
   "cell_type": "code",
   "execution_count": 4,
   "metadata": {},
   "outputs": [],
   "source": [
    "from IPython.core.display import display,HTML\n",
    "\n",
    "###打分函数\n",
    "def score (text,keyword):\n",
    "    result=text.lower().count(keyword.lower())\n",
    "    return result\n",
    "\n",
    "###高亮显示\n",
    "def highlight (text,keyword):\n",
    "    idx=text.lower().find(keyword.lower())\n",
    "    result= text\n",
    "    if idx >=0: \n",
    "        ori_keyword= text[idx:idx+len(keyword)] #切片需要修改的内容\n",
    "        result=text.replace(ori_keyword,'<span style=\"color:blue\">{}</span>'.format(ori_keyword)) #对需要修改的内容进行替换\n",
    "    return result\n",
    "\n",
    "##查询函数\n",
    "def search(keyword,docs):\n",
    "    result_list=[]\n",
    "    for tid, title in enumerate(docs):\n",
    "        if keyword.lower() in title.lower():\n",
    "            result_list.append([tid,score(title,keyword)])\n",
    "        result_list.sort(key = lambda x:x[1],reverse = True)\n",
    "    return [doc_id for doc_id,_ in result_list]\n",
    "\n",
    "###展示函数\n",
    "def render(result_list , keyword, doc_list):\n",
    "    count=1\n",
    "    for item in result_list:\n",
    "        display(HTML('{},{}'.format(count,highlight(doc_list[item],keyword))))"
   ]
  },
  {
   "cell_type": "code",
   "execution_count": 5,
   "metadata": {},
   "outputs": [],
   "source": [
    "keyword='iphone'\n",
    "search_result=search(keyword,title_list)"
   ]
  },
  {
   "cell_type": "code",
   "execution_count": 6,
   "metadata": {},
   "outputs": [
    {
     "data": {
      "text/html": [
       "1,干掉刘海！<span style=\"color:blue\">iPhone</span> 14最新渲染图曝光：感叹号挖孔绝了"
      ],
      "text/plain": [
       "<IPython.core.display.HTML object>"
      ]
     },
     "metadata": {},
     "output_type": "display_data"
    },
    {
     "data": {
      "text/html": [
       "1,一用户给新<span style=\"color:blue\">iPhone</span>差评：后悔死了 劝大家买前三思"
      ],
      "text/plain": [
       "<IPython.core.display.HTML object>"
      ]
     },
     "metadata": {},
     "output_type": "display_data"
    },
    {
     "data": {
      "text/html": [
       "1,富士康：深圳园区基本恢复正常运营 将继续投入<span style=\"color:blue\">iPhone</span>生产"
      ],
      "text/plain": [
       "<IPython.core.display.HTML object>"
      ]
     },
     "metadata": {},
     "output_type": "display_data"
    },
    {
     "data": {
      "text/html": [
       "1,国产“曲屏版<span style=\"color:blue\">iPhone</span> 13 Pro” 新版上架：12GB+256GB大存储"
      ],
      "text/plain": [
       "<IPython.core.display.HTML object>"
      ]
     },
     "metadata": {},
     "output_type": "display_data"
    },
    {
     "data": {
      "text/html": [
       "1,iOS 15.4翻车：<span style=\"color:blue\">iPhone</span>13更新续航暴降50%！苹果火速回应"
      ],
      "text/plain": [
       "<IPython.core.display.HTML object>"
      ]
     },
     "metadata": {},
     "output_type": "display_data"
    },
    {
     "data": {
      "text/html": [
       "1,为什么被大家嫌弃的<span style=\"color:blue\">iPhone</span> SE系列 一年能卖几千万台？"
      ],
      "text/plain": [
       "<IPython.core.display.HTML object>"
      ]
     },
     "metadata": {},
     "output_type": "display_data"
    },
    {
     "data": {
      "text/html": [
       "1,还是A15！<span style=\"color:blue\">iPhone</span> 14连CPU也不升级了：郭明錤揭穿苹果老底"
      ],
      "text/plain": [
       "<IPython.core.display.HTML object>"
      ]
     },
     "metadata": {},
     "output_type": "display_data"
    },
    {
     "data": {
      "text/html": [
       "1,小米京东自营店上架<span style=\"color:blue\">iPhone</span>套装 员工解释真相"
      ],
      "text/plain": [
       "<IPython.core.display.HTML object>"
      ]
     },
     "metadata": {},
     "output_type": "display_data"
    },
    {
     "data": {
      "text/html": [
       "1,<span style=\"color:blue\">iPhone</span> 14 Pro超清概念图曝光：独特挖孔屏、土豪金回归"
      ],
      "text/plain": [
       "<IPython.core.display.HTML object>"
      ]
     },
     "metadata": {},
     "output_type": "display_data"
    },
    {
     "data": {
      "text/html": [
       "1,干掉刘海！<span style=\"color:blue\">iPhone</span> 14最新渲染图曝光：感叹号挖孔绝了"
      ],
      "text/plain": [
       "<IPython.core.display.HTML object>"
      ]
     },
     "metadata": {},
     "output_type": "display_data"
    },
    {
     "data": {
      "text/html": [
       "1,一用户给新<span style=\"color:blue\">iPhone</span>差评：后悔死了 劝大家买前三思"
      ],
      "text/plain": [
       "<IPython.core.display.HTML object>"
      ]
     },
     "metadata": {},
     "output_type": "display_data"
    },
    {
     "data": {
      "text/html": [
       "1,富士康：深圳园区基本恢复正常运营 将继续投入<span style=\"color:blue\">iPhone</span>生产"
      ],
      "text/plain": [
       "<IPython.core.display.HTML object>"
      ]
     },
     "metadata": {},
     "output_type": "display_data"
    },
    {
     "data": {
      "text/html": [
       "1,国产“曲屏版<span style=\"color:blue\">iPhone</span> 13 Pro” 新版上架：12GB+256GB大存储"
      ],
      "text/plain": [
       "<IPython.core.display.HTML object>"
      ]
     },
     "metadata": {},
     "output_type": "display_data"
    },
    {
     "data": {
      "text/html": [
       "1,iOS 15.4翻车：<span style=\"color:blue\">iPhone</span>13更新续航暴降50%！苹果火速回应"
      ],
      "text/plain": [
       "<IPython.core.display.HTML object>"
      ]
     },
     "metadata": {},
     "output_type": "display_data"
    },
    {
     "data": {
      "text/html": [
       "1,为什么被大家嫌弃的<span style=\"color:blue\">iPhone</span> SE系列 一年能卖几千万台？"
      ],
      "text/plain": [
       "<IPython.core.display.HTML object>"
      ]
     },
     "metadata": {},
     "output_type": "display_data"
    },
    {
     "data": {
      "text/html": [
       "1,还是A15！<span style=\"color:blue\">iPhone</span> 14连CPU也不升级了：郭明錤揭穿苹果老底"
      ],
      "text/plain": [
       "<IPython.core.display.HTML object>"
      ]
     },
     "metadata": {},
     "output_type": "display_data"
    },
    {
     "data": {
      "text/html": [
       "1,小米京东自营店上架<span style=\"color:blue\">iPhone</span>套装 员工解释真相"
      ],
      "text/plain": [
       "<IPython.core.display.HTML object>"
      ]
     },
     "metadata": {},
     "output_type": "display_data"
    },
    {
     "data": {
      "text/html": [
       "1,<span style=\"color:blue\">iPhone</span> 14 Pro超清概念图曝光：独特挖孔屏、土豪金回归"
      ],
      "text/plain": [
       "<IPython.core.display.HTML object>"
      ]
     },
     "metadata": {},
     "output_type": "display_data"
    },
    {
     "data": {
      "text/html": [
       "1,<span style=\"color:blue\">iPhone</span> 14系列细节曝光：LTPO高刷屏依然Pro版独享"
      ],
      "text/plain": [
       "<IPython.core.display.HTML object>"
      ]
     },
     "metadata": {},
     "output_type": "display_data"
    },
    {
     "data": {
      "text/html": [
       "1,<span style=\"color:blue\">iPhone</span> 14 Pro外观要安卓化？造型有点感人"
      ],
      "text/plain": [
       "<IPython.core.display.HTML object>"
      ]
     },
     "metadata": {},
     "output_type": "display_data"
    }
   ],
   "source": [
    "render(search_result,keyword,title_list)"
   ]
  },
  {
   "cell_type": "code",
   "execution_count": 3,
   "metadata": {},
   "outputs": [],
   "source": [
    "from IPython.core.display import display,HTML\n",
    "\"\"\"\n",
    "信息检索类\n",
    "——————\n",
    "属性：filename\n",
    "——————\n",
    "方法：\n",
    "load_data(filename) #从磁盘导入数据\n",
    "score(text,keyword) #结果打分函数\n",
    "highlight(text,keyword) #高亮文本中的关键词\n",
    "search(keyword,doc) #获得查询结果并排序\n",
    "render(result_list,keyword,doc_list) #高亮展示结果\n",
    "\"\"\"\n",
    "class MySearchV0():\n",
    "    def __init__(self, filename):\n",
    "        self.docs=[]\n",
    "        self.load_data(filename)\n",
    "    def load_data(self, filename): #导入数据\n",
    "        with open(filename) as f:\n",
    "            self.docs=f.read().split('\\n')\n",
    "            \n",
    "    ###打分函数\n",
    "    def score (self,text,keyword): #确定搜索结果排序\n",
    "        result=text.lower().count(keyword.lower())\n",
    "        return result\n",
    "\n",
    "    ###高亮显示\n",
    "    def highlight (self,text,keyword):  #关键词标亮\n",
    "        idx=text.lower().find(keyword.lower())\n",
    "        result= text\n",
    "        if idx >=0: \n",
    "            ori_keyword= text[idx:idx+len(keyword)] #切片需要修改的内容\n",
    "            result=text.replace(ori_keyword,'<span style=\"color:blue\">{}</span>'.format(ori_keyword)) #对需要修改的内容进行替换\n",
    "        return result\n",
    "\n",
    "    ##查询函数  \n",
    "    def search(self,keyword):  #字符串匹配 关键词若在内容中，id score放入结果列表 再排序\n",
    "        result_list=[]\n",
    "        for tid, title in enumerate(self.docs):\n",
    "            if keyword.lower() in title.lower():\n",
    "                result_list.append([tid,self.score(title,keyword)])\n",
    "            result_list.sort(key = lambda x:x[1],reverse = True)\n",
    "        return [doc_id for doc_id,_ in result_list]\n",
    "\n",
    "    ###展示函数\n",
    "    def render(self,result_list , keyword):\n",
    "        count=1\n",
    "        for item in result_list:\n",
    "            display(HTML('{},{}'.format(count,self.highlight(self.docs[item],keyword))))\n",
    "            count+=1"
   ]
  },
  {
   "cell_type": "code",
   "execution_count": 13,
   "metadata": {},
   "outputs": [],
   "source": [
    "searcher = MySearchV0('d:/python data/titles.txt')"
   ]
  },
  {
   "cell_type": "code",
   "execution_count": 15,
   "metadata": {},
   "outputs": [],
   "source": [
    "search_result = searcher.search('iphone')"
   ]
  },
  {
   "cell_type": "code",
   "execution_count": 10,
   "metadata": {},
   "outputs": [
    {
     "name": "stdout",
     "output_type": "stream",
     "text": [
      "Help on class MySearchV0 in module __main__:\n",
      "\n",
      "class MySearchV0(builtins.object)\n",
      " |  MySearchV0(filename)\n",
      " |  \n",
      " |  Methods defined here:\n",
      " |  \n",
      " |  __init__(self, filename)\n",
      " |      Initialize self.  See help(type(self)) for accurate signature.\n",
      " |  \n",
      " |  highlight(self, text, keyword)\n",
      " |      ###高亮显示\n",
      " |  \n",
      " |  load_data(self, filename)\n",
      " |  \n",
      " |  render(self, result_list, keyword)\n",
      " |      ###展示函数\n",
      " |  \n",
      " |  score(self, text, keyword)\n",
      " |      ###打分函数\n",
      " |  \n",
      " |  search(self, keyword)\n",
      " |      ##查询函数\n",
      " |  \n",
      " |  ----------------------------------------------------------------------\n",
      " |  Data descriptors defined here:\n",
      " |  \n",
      " |  __dict__\n",
      " |      dictionary for instance variables (if defined)\n",
      " |  \n",
      " |  __weakref__\n",
      " |      list of weak references to the object (if defined)\n",
      "\n"
     ]
    }
   ],
   "source": [
    "help(MySearchV0)"
   ]
  },
  {
   "cell_type": "code",
   "execution_count": 11,
   "metadata": {},
   "outputs": [],
   "source": [
    "searcher = MySearchV0('d://python data/titles.txt')#创建对象"
   ]
  },
  {
   "cell_type": "code",
   "execution_count": 12,
   "metadata": {},
   "outputs": [],
   "source": [
    "keyword='手机'\n",
    "search_result = searcher.search(keyword)"
   ]
  },
  {
   "cell_type": "code",
   "execution_count": 13,
   "metadata": {},
   "outputs": [
    {
     "data": {
      "text/html": [
       "1,Redmi做了一张<span style=\"color:blue\">手机</span>2K屏幕测试图：你的<span style=\"color:blue\">手机</span>能看清吗"
      ],
      "text/plain": [
       "<IPython.core.display.HTML object>"
      ]
     },
     "metadata": {},
     "output_type": "display_data"
    },
    {
     "data": {
      "text/html": [
       "2,Redmi做了一张<span style=\"color:blue\">手机</span>2K屏幕测试图：你的<span style=\"color:blue\">手机</span>能看清吗"
      ],
      "text/plain": [
       "<IPython.core.display.HTML object>"
      ]
     },
     "metadata": {},
     "output_type": "display_data"
    },
    {
     "data": {
      "text/html": [
       "3,京东发布自家<span style=\"color:blue\">手机</span>散热器：瞬降至0℃ 冷到会冻手"
      ],
      "text/plain": [
       "<IPython.core.display.HTML object>"
      ]
     },
     "metadata": {},
     "output_type": "display_data"
    },
    {
     "data": {
      "text/html": [
       "4,神似MIX Alpha！友商环绕屏<span style=\"color:blue\">手机</span>曝光：工业设计绝了"
      ],
      "text/plain": [
       "<IPython.core.display.HTML object>"
      ]
     },
     "metadata": {},
     "output_type": "display_data"
    },
    {
     "data": {
      "text/html": [
       "5,全球首款天玑8100+屏幕指纹<span style=\"color:blue\">手机</span>降临！明天发"
      ],
      "text/plain": [
       "<IPython.core.display.HTML object>"
      ]
     },
     "metadata": {},
     "output_type": "display_data"
    },
    {
     "data": {
      "text/html": [
       "6,史上最轻薄的天玑8100<span style=\"color:blue\">手机</span>来了！不到190g"
      ],
      "text/plain": [
       "<IPython.core.display.HTML object>"
      ]
     },
     "metadata": {},
     "output_type": "display_data"
    },
    {
     "data": {
      "text/html": [
       "7,又跟卖<span style=\"color:blue\">手机</span>的学坏招 车企一波更新把续航吸走一半"
      ],
      "text/plain": [
       "<IPython.core.display.HTML object>"
      ]
     },
     "metadata": {},
     "output_type": "display_data"
    },
    {
     "data": {
      "text/html": [
       "8,1月渗透率84%！中国5G<span style=\"color:blue\">手机</span>普及率全球最高"
      ],
      "text/plain": [
       "<IPython.core.display.HTML object>"
      ]
     },
     "metadata": {},
     "output_type": "display_data"
    },
    {
     "data": {
      "text/html": [
       "9,2021全球畅销<span style=\"color:blue\">手机</span>榜单出炉！小米称王 唯一国产品牌"
      ],
      "text/plain": [
       "<IPython.core.display.HTML object>"
      ]
     },
     "metadata": {},
     "output_type": "display_data"
    },
    {
     "data": {
      "text/html": [
       "10,电池涨价离谱！<span style=\"color:blue\">手机</span>、电动车统统都要涨价"
      ],
      "text/plain": [
       "<IPython.core.display.HTML object>"
      ]
     },
     "metadata": {},
     "output_type": "display_data"
    },
    {
     "data": {
      "text/html": [
       "11,国产新机快充屠榜<span style=\"color:blue\">手机</span>行业：快充和充电器成本巨贵"
      ],
      "text/plain": [
       "<IPython.core.display.HTML object>"
      ]
     },
     "metadata": {},
     "output_type": "display_data"
    },
    {
     "data": {
      "text/html": [
       "12,科比曾代言！网友翻出9年前的神机：当年的<span style=\"color:blue\">手机</span>设计天花板"
      ],
      "text/plain": [
       "<IPython.core.display.HTML object>"
      ]
     },
     "metadata": {},
     "output_type": "display_data"
    },
    {
     "data": {
      "text/html": [
       "13,天玑8100<span style=\"color:blue\">手机</span>电竞直屏四大升级！游戏党的最爱"
      ],
      "text/plain": [
       "<IPython.core.display.HTML object>"
      ]
     },
     "metadata": {},
     "output_type": "display_data"
    },
    {
     "data": {
      "text/html": [
       "14,专家建议晚上10点到11点睡觉：看<span style=\"color:blue\">手机</span>或上网导致睡眠拖延"
      ],
      "text/plain": [
       "<IPython.core.display.HTML object>"
      ]
     },
     "metadata": {},
     "output_type": "display_data"
    },
    {
     "data": {
      "text/html": [
       "15,京东发布自家<span style=\"color:blue\">手机</span>散热器：瞬降至0℃ 冷到会冻手"
      ],
      "text/plain": [
       "<IPython.core.display.HTML object>"
      ]
     },
     "metadata": {},
     "output_type": "display_data"
    },
    {
     "data": {
      "text/html": [
       "16,神似MIX Alpha！友商环绕屏<span style=\"color:blue\">手机</span>曝光：工业设计绝了"
      ],
      "text/plain": [
       "<IPython.core.display.HTML object>"
      ]
     },
     "metadata": {},
     "output_type": "display_data"
    },
    {
     "data": {
      "text/html": [
       "17,全球首款天玑8100+屏幕指纹<span style=\"color:blue\">手机</span>降临！明天发"
      ],
      "text/plain": [
       "<IPython.core.display.HTML object>"
      ]
     },
     "metadata": {},
     "output_type": "display_data"
    },
    {
     "data": {
      "text/html": [
       "18,史上最轻薄的天玑8100<span style=\"color:blue\">手机</span>来了！不到190g"
      ],
      "text/plain": [
       "<IPython.core.display.HTML object>"
      ]
     },
     "metadata": {},
     "output_type": "display_data"
    },
    {
     "data": {
      "text/html": [
       "19,2021全球畅销<span style=\"color:blue\">手机</span>榜单出炉！小米称王 唯一国产品牌"
      ],
      "text/plain": [
       "<IPython.core.display.HTML object>"
      ]
     },
     "metadata": {},
     "output_type": "display_data"
    },
    {
     "data": {
      "text/html": [
       "20,国产新机快充屠榜<span style=\"color:blue\">手机</span>行业：快充和充电器成本巨贵"
      ],
      "text/plain": [
       "<IPython.core.display.HTML object>"
      ]
     },
     "metadata": {},
     "output_type": "display_data"
    },
    {
     "data": {
      "text/html": [
       "21,科比曾代言！网友翻出9年前的神机：当年的<span style=\"color:blue\">手机</span>设计天花板"
      ],
      "text/plain": [
       "<IPython.core.display.HTML object>"
      ]
     },
     "metadata": {},
     "output_type": "display_data"
    },
    {
     "data": {
      "text/html": [
       "22,天玑8100<span style=\"color:blue\">手机</span>电竞直屏四大升级！游戏党的最爱"
      ],
      "text/plain": [
       "<IPython.core.display.HTML object>"
      ]
     },
     "metadata": {},
     "output_type": "display_data"
    },
    {
     "data": {
      "text/html": [
       "23,专家建议晚上10点到11点睡觉：看<span style=\"color:blue\">手机</span>或上网导致睡眠拖延"
      ],
      "text/plain": [
       "<IPython.core.display.HTML object>"
      ]
     },
     "metadata": {},
     "output_type": "display_data"
    },
    {
     "data": {
      "text/html": [
       "24,又跟卖<span style=\"color:blue\">手机</span>的学坏招 车企一波更新把续航吸走一半"
      ],
      "text/plain": [
       "<IPython.core.display.HTML object>"
      ]
     },
     "metadata": {},
     "output_type": "display_data"
    },
    {
     "data": {
      "text/html": [
       "25,电池涨价离谱！<span style=\"color:blue\">手机</span>、电动车统统都要涨价"
      ],
      "text/plain": [
       "<IPython.core.display.HTML object>"
      ]
     },
     "metadata": {},
     "output_type": "display_data"
    }
   ],
   "source": [
    "searcher.render(search_result,keyword)"
   ]
  },
  {
   "cell_type": "markdown",
   "metadata": {},
   "source": [
    "## 改进\n",
    "\n",
    "问题：数据量过小\n",
    "\n",
    "故复制该内容，扩大数据量\n",
    "\n",
    "记录时间 魔法指令 %time"
   ]
  },
  {
   "cell_type": "code",
   "execution_count": 4,
   "metadata": {},
   "outputs": [],
   "source": [
    "from IPython.core.display import display,HTML\n",
    "\n",
    "class MySearchV1 (MySearchV0):\n",
    "    \n",
    "    \"\"\"\n",
    "    V0:base class\n",
    "    V1:Data vulunm added\n",
    "\n",
    "    Attributes:\n",
    "    ------------\n",
    "    filename:str\n",
    "    multi-factor:int\n",
    "\n",
    "    methods:\n",
    "    ——————\n",
    "    load_data(filename) #从磁盘导入数据\n",
    "    score(text,keyword) #结果打分函数\n",
    "    highlight(text,keyword) #高亮文本中的关键词\n",
    "    search(keyword,doc) #获得查询结果并排序\n",
    "    render(result_list,keyword,doc_list) #高亮展示结果\n",
    "    \"\"\"\n",
    "    def __init__(self, filename, multi_factor=1):\n",
    "        self.docs=[]\n",
    "        self.multi_factor=multi_factor\n",
    "        self.load_data(filename)\n",
    "        \n",
    "    def load_data(self,filename):\n",
    "        with open(filename) as f:\n",
    "            self.docs=f.read().split('\\n')\n",
    "            self.docs=self.docs*self.multi_factor\n",
    "    "
   ]
  },
  {
   "cell_type": "code",
   "execution_count": 17,
   "metadata": {},
   "outputs": [],
   "source": [
    "searcher=MySearchV1('d://python data/titles.txt',100)"
   ]
  },
  {
   "cell_type": "code",
   "execution_count": 18,
   "metadata": {},
   "outputs": [
    {
     "name": "stdout",
     "output_type": "stream",
     "text": [
      "Wall time: 4.79 s\n"
     ]
    }
   ],
   "source": [
    "%time searcher_list=searcher.search('手机')"
   ]
  },
  {
   "cell_type": "code",
   "execution_count": 19,
   "metadata": {},
   "outputs": [
    {
     "name": "stdout",
     "output_type": "stream",
     "text": [
      " "
     ]
    }
   ],
   "source": [
    "%prun searcher_list=searcher.search('手机')\n",
    "#查看具体块的时间"
   ]
  },
  {
   "cell_type": "markdown",
   "metadata": {},
   "source": [
    "## 对列表只选十个"
   ]
  },
  {
   "cell_type": "code",
   "execution_count": 5,
   "metadata": {},
   "outputs": [],
   "source": [
    "from IPython.core.display import display,HTML\n",
    "import bisect\n",
    "\n",
    "class MySearchV2(MySearchV1):\n",
    "    '''\n",
    "    V0: Base Class\n",
    "    V1: Data vulunm added\n",
    "    V2：Sorting optimization\n",
    "\n",
    "    Attributes\n",
    "    ---------\n",
    "    filename:str\n",
    "    multi_factor:int\n",
    "\n",
    "    methods:\n",
    "    ---------\n",
    "    load_data(filename):load data from disk\n",
    "    hightlight(text,keyword)\n",
    "        高亮文本中的关键词\n",
    "    score(text,keyword)\n",
    "        从给查询的文本打分\n",
    "    search(keyword)\n",
    "        get search result\n",
    "    render(result_list,keyword)\n",
    "        带高亮显示的输出结果\n",
    "    '''\n",
    "    def search(self,keyword,num=10):\n",
    "        result_list=[]\n",
    "        min_score=0\n",
    "        for tid,title in enumerate(self.docs):\n",
    "            if keyword.lower() in title.lower():\n",
    "                score=self.score(title,keyword)\n",
    "                if len(result_list)==num: #如果列表满了\n",
    "                    if score>min_score: #如果score大 可以放进去，如果score小 不放\n",
    "                        insert_idx=bisect.bisect([doc_score[1] for doc_score in result_list],score)\n",
    "                        #与其他元素比较，判断位置\n",
    "                        result_list=result_list[1:insert_idx]+[(tid,score)]+result_list[insert_idx:]\n",
    "                        #去除最小的 从1开始，在对应位置把值加进去（空一个位置 放进去）\n",
    "                        min_score=result_list[0][1] #min是新列表的第一个值\n",
    "                elif len(result_list)<num-1: \n",
    "                    result_list.append((tid,score))                    \n",
    "                elif len(result_list)==num-1:\n",
    "                    result_list.append((tid,score)) \n",
    "                    result_list.sort(key=lambda x:x[1])\n",
    "                    min_score=result_list[0][1] #设置了一个阈值 最小值的得分\n",
    "        \n",
    "        return [doc_id for doc_id,_ in result_list[::-1]]"
   ]
  },
  {
   "cell_type": "markdown",
   "metadata": {},
   "source": []
  },
  {
   "cell_type": "code",
   "execution_count": 21,
   "metadata": {},
   "outputs": [],
   "source": [
    "searcher=MySearchV2('d://python data/titles.txt',100000)"
   ]
  },
  {
   "cell_type": "code",
   "execution_count": 22,
   "metadata": {
    "collapsed": true
   },
   "outputs": [
    {
     "ename": "KeyboardInterrupt",
     "evalue": "",
     "output_type": "error",
     "traceback": [
      "\u001b[1;31m---------------------------------------------------------------------------\u001b[0m",
      "\u001b[1;31mKeyboardInterrupt\u001b[0m                         Traceback (most recent call last)",
      "\u001b[1;32m<ipython-input-22-f6bd35b3b608>\u001b[0m in \u001b[0;36m<module>\u001b[1;34m\u001b[0m\n\u001b[0;32m      1\u001b[0m \u001b[0mkeyword\u001b[0m\u001b[1;33m=\u001b[0m\u001b[1;34m'iphone'\u001b[0m\u001b[1;33m\u001b[0m\u001b[1;33m\u001b[0m\u001b[0m\n\u001b[1;32m----> 2\u001b[1;33m \u001b[0msearcher_result\u001b[0m\u001b[1;33m=\u001b[0m\u001b[0msearcher\u001b[0m\u001b[1;33m.\u001b[0m\u001b[0msearch\u001b[0m\u001b[1;33m(\u001b[0m\u001b[0mkeyword\u001b[0m\u001b[1;33m)\u001b[0m\u001b[1;33m\u001b[0m\u001b[1;33m\u001b[0m\u001b[0m\n\u001b[0m",
      "\u001b[1;32m<ipython-input-20-84298a66502d>\u001b[0m in \u001b[0;36msearch\u001b[1;34m(self, keyword, num)\u001b[0m\n\u001b[0;32m     28\u001b[0m         \u001b[0mresult_list\u001b[0m\u001b[1;33m=\u001b[0m\u001b[1;33m[\u001b[0m\u001b[1;33m]\u001b[0m\u001b[1;33m\u001b[0m\u001b[1;33m\u001b[0m\u001b[0m\n\u001b[0;32m     29\u001b[0m         \u001b[0mmin_score\u001b[0m\u001b[1;33m=\u001b[0m\u001b[1;36m0\u001b[0m\u001b[1;33m\u001b[0m\u001b[1;33m\u001b[0m\u001b[0m\n\u001b[1;32m---> 30\u001b[1;33m         \u001b[1;32mfor\u001b[0m \u001b[0mtid\u001b[0m\u001b[1;33m,\u001b[0m\u001b[0mtitle\u001b[0m \u001b[1;32min\u001b[0m \u001b[0menumerate\u001b[0m\u001b[1;33m(\u001b[0m\u001b[0mself\u001b[0m\u001b[1;33m.\u001b[0m\u001b[0mdocs\u001b[0m\u001b[1;33m)\u001b[0m\u001b[1;33m:\u001b[0m\u001b[1;33m\u001b[0m\u001b[1;33m\u001b[0m\u001b[0m\n\u001b[0m\u001b[0;32m     31\u001b[0m             \u001b[1;32mif\u001b[0m \u001b[0mkeyword\u001b[0m\u001b[1;33m.\u001b[0m\u001b[0mlower\u001b[0m\u001b[1;33m(\u001b[0m\u001b[1;33m)\u001b[0m \u001b[1;32min\u001b[0m \u001b[0mtitle\u001b[0m\u001b[1;33m.\u001b[0m\u001b[0mlower\u001b[0m\u001b[1;33m(\u001b[0m\u001b[1;33m)\u001b[0m\u001b[1;33m:\u001b[0m\u001b[1;33m\u001b[0m\u001b[1;33m\u001b[0m\u001b[0m\n\u001b[0;32m     32\u001b[0m                 \u001b[0mscore\u001b[0m\u001b[1;33m=\u001b[0m\u001b[0mself\u001b[0m\u001b[1;33m.\u001b[0m\u001b[0mscore\u001b[0m\u001b[1;33m(\u001b[0m\u001b[0mtitle\u001b[0m\u001b[1;33m,\u001b[0m\u001b[0mkeyword\u001b[0m\u001b[1;33m)\u001b[0m\u001b[1;33m\u001b[0m\u001b[1;33m\u001b[0m\u001b[0m\n",
      "\u001b[1;31mKeyboardInterrupt\u001b[0m: "
     ]
    }
   ],
   "source": [
    "keyword='iphone'\n",
    "searcher_result=searcher.search(keyword)"
   ]
  },
  {
   "cell_type": "code",
   "execution_count": null,
   "metadata": {},
   "outputs": [],
   "source": [
    "searcher.render(searcher_result,keyword)"
   ]
  },
  {
   "cell_type": "code",
   "execution_count": 23,
   "metadata": {},
   "outputs": [
    {
     "name": "stdout",
     "output_type": "stream",
     "text": [
      "Wall time: 21.3 s\n"
     ]
    }
   ],
   "source": [
    "keyword='手机'\n",
    "%time search_result=searcher.search(keyword)\n",
    "#改进有限 当包含关键词的记录很多时，改进明显"
   ]
  },
  {
   "cell_type": "code",
   "execution_count": 24,
   "metadata": {},
   "outputs": [
    {
     "name": "stdout",
     "output_type": "stream",
     "text": [
      " "
     ]
    }
   ],
   "source": [
    "%prun search_result=searcher.search(keyword)"
   ]
  },
  {
   "cell_type": "code",
   "execution_count": null,
   "metadata": {},
   "outputs": [],
   "source": []
  },
  {
   "cell_type": "markdown",
   "metadata": {},
   "source": [
    "## 问题：lower调用次数太多 \n",
    "\n",
    "方法：在初始化时新建了一个相同长度的doc_lower，一次性转化大小写"
   ]
  },
  {
   "cell_type": "code",
   "execution_count": 6,
   "metadata": {},
   "outputs": [],
   "source": [
    "from IPython.core.display import display,HTML\n",
    "import bisect\n",
    "\n",
    "class MySearchV3(MySearchV2):\n",
    "    '''\n",
    "    V0: Base Class\n",
    "    V1: Data vulunm added\n",
    "    V2：Sorting optimization\n",
    "    V3:Add a lowered version of docs\n",
    "\n",
    "    Attributes\n",
    "    ---------\n",
    "    filename:str\n",
    "    multi_factor:int\n",
    "\n",
    "    methods:\n",
    "    ---------\n",
    "    load_data(filename):load data from disk\n",
    "    hightlight(text,keyword)\n",
    "        高亮文本中的关键词\n",
    "    score(text,keyword)\n",
    "        从给查询的文本打分\n",
    "    search(keyword)\n",
    "        get search result\n",
    "    render(result_list,keyword)\n",
    "        带高亮显示的输出结果\n",
    "    '''\n",
    "    def __init__(self,filename,multi_factor=1):\n",
    "        self.docs=[]\n",
    "        self.docs_lower=[]\n",
    "        self.multi_factor=multi_factor\n",
    "        self.load_data(filename)\n",
    "    def load_data(self,filename):\n",
    "        with open(filename,encoding='utf-8') as f:\n",
    "            self.docs=f.read().split('\\n')\n",
    "        self.docs_lower=[doc.lower() for doc in self.docs] #加载的时候一次性小写化，查询时不需要多次小写化\n",
    "        self.docs=self.docs*self.multi_factor\n",
    "        self.docs_lower=self.docs_lower*self.multi_factor #乘倍数 长度一样\n",
    "    def highlight(self,text,keyword,ori_text):\n",
    "        idx=text.find(keyword)\n",
    "        result=text\n",
    "        if idx>=0:\n",
    "            ori_keyword=ori_text[idx:idx+len(keyword)]\n",
    "            result=ori_text.replace(ori_keyword,\"<span style='color:red'>{}</span>\".format(ori_keyword))\n",
    "        return result\n",
    "    def score(self,text,keyword):    #text已经是小写版本参数\n",
    "        result=text.count(keyword)\n",
    "        return result\n",
    "    def search(self,keyword,num=10):\n",
    "        result_list=[]\n",
    "        min_score=0\n",
    "        keyword_lower=keyword.lower()\n",
    "        for tid,title in enumerate(self.docs):\n",
    "            if keyword_lower in title:     #title小写版本数据\n",
    "                score=self.score(title,keyword_lower)\n",
    "                if len(result_list)==num:\n",
    "                    if score>min_score:\n",
    "                        insert_idx=bisect.bisect([doc_score[1] for doc_score in result_list],score)\n",
    "                        result_list=result_list[1:insert_idx]+[(tid,score)]+result_list[insert_idx:]\n",
    "                        min_score=result_list[0][1]\n",
    "                elif len(result_list)<num-1:\n",
    "                    result_list.append((tid,score))                    \n",
    "                elif len(result_list)==num-1:\n",
    "                    result_list.append((tid,score))\n",
    "                    result_list.sort(key=lambda x:x[1])\n",
    "                    min_score=result_list[0][1]\n",
    "        \n",
    "        return [doc_id for doc_id,_ in result_list[::-1]]\n",
    "    def render(self,result_list,keyword):\n",
    "        count=1\n",
    "        for item in result_list:\n",
    "            result=self.highlight(self.docs_lower[item],keyword.lower(),self.docs[item])\n",
    "            display(HTML(\"{}、{}\".format(count,result)))\n",
    "            count+=1"
   ]
  },
  {
   "cell_type": "code",
   "execution_count": 37,
   "metadata": {
    "collapsed": true
   },
   "outputs": [],
   "source": [
    "searcher=MySearchV3('c:/python data/titles.txt',100000)"
   ]
  },
  {
   "cell_type": "code",
   "execution_count": 38,
   "metadata": {
    "collapsed": true
   },
   "outputs": [],
   "source": [
    "keyword='手机'\n",
    "search_result=searcher.search(keyword)"
   ]
  },
  {
   "cell_type": "code",
   "execution_count": 39,
   "metadata": {},
   "outputs": [
    {
     "data": {
      "text/html": [
       "1、Redmi做了一张<span style='color:red'>手机</span>2K屏幕测试图：你的<span style='color:red'>手机</span>能看清吗"
      ],
      "text/plain": [
       "<IPython.core.display.HTML object>"
      ]
     },
     "metadata": {},
     "output_type": "display_data"
    },
    {
     "data": {
      "text/html": [
       "2、Redmi做了一张<span style='color:red'>手机</span>2K屏幕测试图：你的<span style='color:red'>手机</span>能看清吗"
      ],
      "text/plain": [
       "<IPython.core.display.HTML object>"
      ]
     },
     "metadata": {},
     "output_type": "display_data"
    },
    {
     "data": {
      "text/html": [
       "3、Redmi做了一张<span style='color:red'>手机</span>2K屏幕测试图：你的<span style='color:red'>手机</span>能看清吗"
      ],
      "text/plain": [
       "<IPython.core.display.HTML object>"
      ]
     },
     "metadata": {},
     "output_type": "display_data"
    },
    {
     "data": {
      "text/html": [
       "4、Redmi做了一张<span style='color:red'>手机</span>2K屏幕测试图：你的<span style='color:red'>手机</span>能看清吗"
      ],
      "text/plain": [
       "<IPython.core.display.HTML object>"
      ]
     },
     "metadata": {},
     "output_type": "display_data"
    },
    {
     "data": {
      "text/html": [
       "5、Redmi做了一张<span style='color:red'>手机</span>2K屏幕测试图：你的<span style='color:red'>手机</span>能看清吗"
      ],
      "text/plain": [
       "<IPython.core.display.HTML object>"
      ]
     },
     "metadata": {},
     "output_type": "display_data"
    },
    {
     "data": {
      "text/html": [
       "6、Redmi做了一张<span style='color:red'>手机</span>2K屏幕测试图：你的<span style='color:red'>手机</span>能看清吗"
      ],
      "text/plain": [
       "<IPython.core.display.HTML object>"
      ]
     },
     "metadata": {},
     "output_type": "display_data"
    },
    {
     "data": {
      "text/html": [
       "7、Redmi做了一张<span style='color:red'>手机</span>2K屏幕测试图：你的<span style='color:red'>手机</span>能看清吗"
      ],
      "text/plain": [
       "<IPython.core.display.HTML object>"
      ]
     },
     "metadata": {},
     "output_type": "display_data"
    },
    {
     "data": {
      "text/html": [
       "8、Redmi做了一张<span style='color:red'>手机</span>2K屏幕测试图：你的<span style='color:red'>手机</span>能看清吗"
      ],
      "text/plain": [
       "<IPython.core.display.HTML object>"
      ]
     },
     "metadata": {},
     "output_type": "display_data"
    },
    {
     "data": {
      "text/html": [
       "9、Redmi做了一张<span style='color:red'>手机</span>2K屏幕测试图：你的<span style='color:red'>手机</span>能看清吗"
      ],
      "text/plain": [
       "<IPython.core.display.HTML object>"
      ]
     },
     "metadata": {},
     "output_type": "display_data"
    },
    {
     "data": {
      "text/html": [
       "10、Redmi做了一张<span style='color:red'>手机</span>2K屏幕测试图：你的<span style='color:red'>手机</span>能看清吗"
      ],
      "text/plain": [
       "<IPython.core.display.HTML object>"
      ]
     },
     "metadata": {},
     "output_type": "display_data"
    }
   ],
   "source": [
    "searcher.render(search_result,keyword)"
   ]
  },
  {
   "cell_type": "code",
   "execution_count": 40,
   "metadata": {},
   "outputs": [
    {
     "name": "stdout",
     "output_type": "stream",
     "text": [
      "Wall time: 5.03 s\n"
     ]
    }
   ],
   "source": [
    "keyword='手机'\n",
    "%time search_result=searcher.search(keyword)"
   ]
  },
  {
   "cell_type": "code",
   "execution_count": 41,
   "metadata": {},
   "outputs": [
    {
     "name": "stdout",
     "output_type": "stream",
     "text": [
      " "
     ]
    }
   ],
   "source": [
    "%prun search_result=searcher.search(keyword)"
   ]
  },
  {
   "cell_type": "markdown",
   "metadata": {},
   "source": [
    "## 使用新爬的数据"
   ]
  },
  {
   "cell_type": "markdown",
   "metadata": {},
   "source": [
    "爬虫部分"
   ]
  },
  {
   "cell_type": "code",
   "execution_count": 1,
   "metadata": {},
   "outputs": [
    {
     "name": "stderr",
     "output_type": "stream",
     "text": [
      "C:\\Users\\JYZ\\anaconda3\\lib\\site-packages\\requests\\__init__.py:89: RequestsDependencyWarning: urllib3 (1.26.8) or chardet (3.0.4) doesn't match a supported version!\n",
      "  warnings.warn(\"urllib3 ({}) or chardet ({}) doesn't match a supported \"\n"
     ]
    },
    {
     "name": "stdout",
     "output_type": "stream",
     "text": [
      "15 processed.\n",
      "30 processed.\n",
      "45 processed.\n",
      "60 processed.\n",
      "75 processed.\n",
      "90 processed.\n",
      "105 processed.\n",
      "120 processed.\n",
      "135 processed.\n",
      "150 processed.\n",
      "165 processed.\n",
      "180 processed.\n",
      "195 processed.\n",
      "210 processed.\n",
      "225 processed.\n",
      "240 processed.\n",
      "255 processed.\n",
      "270 processed.\n",
      "285 processed.\n",
      "300 processed.\n",
      "315 processed.\n"
     ]
    }
   ],
   "source": [
    "import requests  \n",
    "from lxml import etree\n",
    "\n",
    "url = 'https://www.mydrivers.com'  \n",
    "headers = {'user-agent': 'Mozilla/5.0 (Windows NT 10.0; Win64; x64) AppleWebKit/537.36 (KHTML, like Gecko) Chrome/85.0.4183.121 Safari/537.36 Edg/85.0.564.63'}\n",
    "r = requests.get(url, headers=headers)  \n",
    "sel = etree.HTML(r.content)\n",
    "\n",
    "link_set = set()\n",
    "news_list = []\n",
    "count = 0\n",
    "for item in sel.xpath(\"//span[@class='titl']/a\"): \n",
    "    title = item.text\n",
    "    if title:\n",
    "        link = item.attrib['href']\n",
    "        if link not in link_set:\n",
    "            r = requests.get(link, headers=headers)  \n",
    "            sel_c = etree.HTML(r.content)  \n",
    "            text_block = sel_c.xpath(\"//div[@class='news_info']\") \n",
    "            if text_block:\n",
    "                content = ''.join(text_block[0].xpath('./p/text()')).replace('\\n', '').replace('\\r', '').replace('\\t', '')\n",
    "                news_list.append('$$$'.join((title, content, link)))\n",
    "                link_set.add(link)\n",
    "                count += 1\n",
    "                if count % 15 == 0:\n",
    "                    print(count, 'processed.')"
   ]
  },
  {
   "cell_type": "code",
   "execution_count": 2,
   "metadata": {},
   "outputs": [],
   "source": [
    "with open('titles1.txt', 'w',encoding='utf-8') as f:\n",
    "    for line in news_list:\n",
    "        f.write(line)\n",
    "        f.write('\\n')"
   ]
  },
  {
   "cell_type": "markdown",
   "metadata": {},
   "source": [
    "类部分"
   ]
  },
  {
   "cell_type": "code",
   "execution_count": 7,
   "metadata": {},
   "outputs": [],
   "source": [
    "from IPython.core.display import display,HTML\n",
    "import bisect\n",
    "\n",
    "class MySearchV4(MySearchV3):\n",
    "    '''\n",
    "    V0: Base Class\n",
    "    V1: Data vulunm added\n",
    "    V2：Sorting optimization\n",
    "    V3:Add a lowered version of docs\n",
    "\n",
    "    Attributes\n",
    "    ---------\n",
    "    filename:str\n",
    "    multi_factor:int\n",
    "\n",
    "    methods:\n",
    "    ---------\n",
    "    load_data(filename):load data from disk\n",
    "    hightlight(text,keyword)\n",
    "        高亮文本中的关键词\n",
    "    score(text,keyword)\n",
    "        从给查询的文本打分\n",
    "    search(keyword)\n",
    "        get search result\n",
    "    render(result_list,keyword)\n",
    "        带高亮显示的输出结果\n",
    "    '''\n",
    "    def __init__(self,filename,multi_factor=1):\n",
    "        self.docs=[]\n",
    "        self.docs_lower=[]\n",
    "        self.multi_factor=multi_factor\n",
    "        self.load_data(filename)\n",
    "    def load_data(self,filename):\n",
    "        with open(filename,encoding='utf-8') as f:\n",
    "            self.docs=f.read().split('\\n')\n",
    "        self.docs_lower=[doc.lower() for doc in self.docs] #加载的时候小写化，查询不再需要小写化\n",
    "        self.docs=self.docs*self.multi_factor\n",
    "        self.docs_lower=self.docs_lower*self.multi_factor\n",
    "    def highlight(self,text,keyword,ori_text):\n",
    "        idx=text.find(keyword)\n",
    "        result=text\n",
    "        if idx>=0:\n",
    "            ori_keyword=ori_text[idx:idx+len(keyword)]\n",
    "            result=ori_text.replace(ori_keyword,\"<span style='color:red'>{}</span>\".format(ori_keyword))\n",
    "        return result\n",
    "    def score(self,text,keyword):    #text是小写版本参数\n",
    "        result=text.count(keyword)\n",
    "        return result\n",
    "    def search(self,keyword,num=10):\n",
    "        result_list=[]\n",
    "        min_score=0\n",
    "        keyword_lower=keyword.lower() \n",
    "        for tid,title in enumerate(self.docs):\n",
    "            if keyword_lower in title:     #title小写版本数据\n",
    "                score=self.score(title,keyword_lower)\n",
    "                if len(result_list)==num:\n",
    "                    if score>min_score:\n",
    "                        insert_idx=bisect.bisect([doc_score[1] for doc_score in result_list],score)\n",
    "                        result_list=result_list[1:insert_idx]+[(tid,score)]+result_list[insert_idx:]\n",
    "                        min_score=result_list[0][1]\n",
    "                elif len(result_list)<num-1:\n",
    "                    result_list.append((tid,score))                    \n",
    "                elif len(result_list)==num-1:\n",
    "                    result_list.append((tid,score))\n",
    "                    result_list.sort(key=lambda x:x[1])\n",
    "                    min_score=result_list[0][1]\n",
    "        \n",
    "        return [doc_id for doc_id,_ in result_list[::-1]]\n",
    "    def render(self,result_list,keyword):\n",
    "        count=1 \n",
    "        for item in result_list:\n",
    "            result=self.highlight(\n",
    "                self.docs_lower[item],keyword.lower(),self.docs[item]\n",
    "            ).replace('$$$','<br/>')\n",
    "            #result=self.highlight(self.docs_lower[item],keyword.lower(),self.docs[item])\n",
    "            display(HTML(\"{}、{}.....\".format(count,result[:150])))\n",
    "            count+=1"
   ]
  },
  {
   "cell_type": "code",
   "execution_count": 31,
   "metadata": {},
   "outputs": [],
   "source": [
    "searcher=MySearchV4('titles1.txt',100000)"
   ]
  },
  {
   "cell_type": "code",
   "execution_count": 32,
   "metadata": {},
   "outputs": [
    {
     "data": {
      "text/html": [
       "1、很多人早已不再换主题 为啥说<span style='color:red'>手机</span>主题美化的尽头是默认？<br/>当<span style='color:red'>手机</span>厂商越来越重视 UI 设计，主题美化的价值便逐渐降低。作为日常热度最高的话题之一，「主题美化」曾经让安卓党....."
      ],
      "text/plain": [
       "<IPython.core.display.HTML object>"
      ]
     },
     "metadata": {},
     "output_type": "display_data"
    },
    {
     "data": {
      "text/html": [
       "2、很多人早已不再换主题 为啥说<span style='color:red'>手机</span>主题美化的尽头是默认？<br/>当<span style='color:red'>手机</span>厂商越来越重视 UI 设计，主题美化的价值便逐渐降低。作为日常热度最高的话题之一，「主题美化」曾经让安卓党....."
      ],
      "text/plain": [
       "<IPython.core.display.HTML object>"
      ]
     },
     "metadata": {},
     "output_type": "display_data"
    },
    {
     "data": {
      "text/html": [
       "3、很多人早已不再换主题 为啥说<span style='color:red'>手机</span>主题美化的尽头是默认？<br/>当<span style='color:red'>手机</span>厂商越来越重视 UI 设计，主题美化的价值便逐渐降低。作为日常热度最高的话题之一，「主题美化」曾经让安卓党....."
      ],
      "text/plain": [
       "<IPython.core.display.HTML object>"
      ]
     },
     "metadata": {},
     "output_type": "display_data"
    },
    {
     "data": {
      "text/html": [
       "4、很多人早已不再换主题 为啥说<span style='color:red'>手机</span>主题美化的尽头是默认？<br/>当<span style='color:red'>手机</span>厂商越来越重视 UI 设计，主题美化的价值便逐渐降低。作为日常热度最高的话题之一，「主题美化」曾经让安卓党....."
      ],
      "text/plain": [
       "<IPython.core.display.HTML object>"
      ]
     },
     "metadata": {},
     "output_type": "display_data"
    },
    {
     "data": {
      "text/html": [
       "5、很多人早已不再换主题 为啥说<span style='color:red'>手机</span>主题美化的尽头是默认？<br/>当<span style='color:red'>手机</span>厂商越来越重视 UI 设计，主题美化的价值便逐渐降低。作为日常热度最高的话题之一，「主题美化」曾经让安卓党....."
      ],
      "text/plain": [
       "<IPython.core.display.HTML object>"
      ]
     },
     "metadata": {},
     "output_type": "display_data"
    },
    {
     "data": {
      "text/html": [
       "6、很多人早已不再换主题 为啥说<span style='color:red'>手机</span>主题美化的尽头是默认？<br/>当<span style='color:red'>手机</span>厂商越来越重视 UI 设计，主题美化的价值便逐渐降低。作为日常热度最高的话题之一，「主题美化」曾经让安卓党....."
      ],
      "text/plain": [
       "<IPython.core.display.HTML object>"
      ]
     },
     "metadata": {},
     "output_type": "display_data"
    },
    {
     "data": {
      "text/html": [
       "7、很多人早已不再换主题 为啥说<span style='color:red'>手机</span>主题美化的尽头是默认？<br/>当<span style='color:red'>手机</span>厂商越来越重视 UI 设计，主题美化的价值便逐渐降低。作为日常热度最高的话题之一，「主题美化」曾经让安卓党....."
      ],
      "text/plain": [
       "<IPython.core.display.HTML object>"
      ]
     },
     "metadata": {},
     "output_type": "display_data"
    },
    {
     "data": {
      "text/html": [
       "8、很多人早已不再换主题 为啥说<span style='color:red'>手机</span>主题美化的尽头是默认？<br/>当<span style='color:red'>手机</span>厂商越来越重视 UI 设计，主题美化的价值便逐渐降低。作为日常热度最高的话题之一，「主题美化」曾经让安卓党....."
      ],
      "text/plain": [
       "<IPython.core.display.HTML object>"
      ]
     },
     "metadata": {},
     "output_type": "display_data"
    },
    {
     "data": {
      "text/html": [
       "9、很多人早已不再换主题 为啥说<span style='color:red'>手机</span>主题美化的尽头是默认？<br/>当<span style='color:red'>手机</span>厂商越来越重视 UI 设计，主题美化的价值便逐渐降低。作为日常热度最高的话题之一，「主题美化」曾经让安卓党....."
      ],
      "text/plain": [
       "<IPython.core.display.HTML object>"
      ]
     },
     "metadata": {},
     "output_type": "display_data"
    },
    {
     "data": {
      "text/html": [
       "10、很多人早已不再换主题 为啥说<span style='color:red'>手机</span>主题美化的尽头是默认？<br/>当<span style='color:red'>手机</span>厂商越来越重视 UI 设计，主题美化的价值便逐渐降低。作为日常热度最高的话题之一，「主题美化」曾经让安卓党....."
      ],
      "text/plain": [
       "<IPython.core.display.HTML object>"
      ]
     },
     "metadata": {},
     "output_type": "display_data"
    }
   ],
   "source": [
    "keyword='手机'\n",
    "search_result=searcher.search(keyword)\n",
    "searcher.render(search_result,keyword)"
   ]
  },
  {
   "cell_type": "code",
   "execution_count": 33,
   "metadata": {},
   "outputs": [
    {
     "name": "stdout",
     "output_type": "stream",
     "text": [
      "Wall time: 19.8 s\n",
      "Wall time: 19.9 s\n",
      "Wall time: 20 s\n"
     ]
    }
   ],
   "source": [
    "%time search_result = searcher.search(keyword)\n",
    "%time search_result = searcher.search(keyword)\n",
    "%time search_result = searcher.search(keyword)"
   ]
  },
  {
   "cell_type": "code",
   "execution_count": 8,
   "metadata": {},
   "outputs": [],
   "source": [
    "from IPython.core.display import display,HTML\n",
    "import bisect\n",
    "\n",
    "class MySearchV5(MySearchV4):\n",
    "    '''\n",
    "    V0: Base Class\n",
    "    V1: Data vulunm added\n",
    "    V2：Sorting optimization\n",
    "    V3: Add a lowered version of docs\n",
    "    V4: for long doc\n",
    "    V5: add a cache,save old keywords result_set\n",
    "\n",
    "    Attributes\n",
    "    ---------\n",
    "    filename:str\n",
    "    multi_factor:int\n",
    "\n",
    "    methods:\n",
    "    ---------\n",
    "    load_data(filename):load data from disk\n",
    "    hightlight(text,keyword)\n",
    "        高亮文本中的关键词\n",
    "    score(text,keyword)\n",
    "        从给查询的文本打分\n",
    "    search(keyword)\n",
    "        get search result\n",
    "    render(result_list,keyword)\n",
    "        带高亮显示的输出结果\n",
    "    '''\n",
    "    def __init__(self,filename,multi_factor=1):\n",
    "        self.docs=[]\n",
    "        self.docs_lower=[]\n",
    "        self.search_cache=dict()\n",
    "        self.multi_factor=multi_factor\n",
    "        self.load_data(filename)\n",
    "\n",
    "    def search(self,keyword,num=10):\n",
    "        keyword_lower=keyword.lower()        \n",
    "        result_set=set() #集合中没有重复元素\n",
    "        if keyword_lower in self.search_cache: #如果词已经在缓存当中，直接赋值\n",
    "            result_set = self.search_cache[keyword_lower]\n",
    "        else:\n",
    "            for tid,title in enumerate(self.docs_lower):\n",
    "                if keyword_lower in title:\n",
    "                    result_set.add(tid)\n",
    "            self.search_cache[keyword_lower]=result_set\n",
    "            \n",
    "            \n",
    "        result_list=[]\n",
    "        min_score=0\n",
    "\n",
    "        for tid in result_set:\n",
    "            doc=self.docs_lower[tid] #从小写版本中拿出对应tid的数据\n",
    "            \n",
    "            if keyword_lower in doc:     #title小写版本数据\n",
    "                score=self.score(doc,keyword_lower)\n",
    "                if len(result_list)==num:  #列表满了的情况\n",
    "                    if score>min_score:\n",
    "                        insert_idx=bisect.bisect([doc_score[1] for doc_score in result_list],score)\n",
    "                        result_list=result_list[1:insert_idx]+[(tid,score)]+result_list[insert_idx:]\n",
    "                        min_score=result_list[0][1]\n",
    "                elif len(result_list)<num-1:\n",
    "                    result_list.append((tid,score))                    \n",
    "                elif len(result_list)==num-1:\n",
    "                    result_list.append((tid,score))\n",
    "                    result_list.sort(key=lambda x:x[1])\n",
    "                    min_score=result_list[0][1]\n",
    "        \n",
    "        return [doc_id for doc_id,_ in result_list[::-1]]"
   ]
  },
  {
   "cell_type": "code",
   "execution_count": 35,
   "metadata": {},
   "outputs": [],
   "source": [
    "searcher=MySearchV5('titles1.txt',100000)"
   ]
  },
  {
   "cell_type": "code",
   "execution_count": 36,
   "metadata": {},
   "outputs": [
    {
     "name": "stdout",
     "output_type": "stream",
     "text": [
      "Wall time: 20 s\n",
      "Wall time: 1.27 s\n",
      "Wall time: 1.28 s\n"
     ]
    }
   ],
   "source": [
    "%time search_result = searcher.search(\"笔记本\")\n",
    "%time search_result = searcher.search(\"笔记本\")\n",
    "%time search_result = searcher.search(\"笔记本\")"
   ]
  },
  {
   "cell_type": "code",
   "execution_count": null,
   "metadata": {},
   "outputs": [],
   "source": []
  },
  {
   "cell_type": "markdown",
   "metadata": {},
   "source": [
    "## 怎么找到所有的词\n",
    "\n",
    "解决方案1：找一个词库 \n",
    "\n",
    "解决方案2：分词"
   ]
  },
  {
   "cell_type": "markdown",
   "metadata": {},
   "source": [
    "## 提前分词，预先加载所有的词的查询结果到内存"
   ]
  },
  {
   "cell_type": "code",
   "execution_count": 48,
   "metadata": {},
   "outputs": [
    {
     "name": "stdout",
     "output_type": "stream",
     "text": [
      "{全模式}：对外,对外经济贸易大学,外经,经济,贸易,贸易大学,大学,副校长,校长,洪,俊杰,致,欢迎,欢迎辞,，,介绍,了,我校,入选,世界,世界贸易组织,贸易,贸易组织,组织,第三,第三期,三期,教席,计划,的,相关,情况,。,WTO,副总,副总干事,总干事,干事,张,向,晨,在,致辞,中介,介绍,了,教席,项目,目的,相关,背景,以及,中国,研究,机构,参与,教席,项目,目的,相关,经历,，\n",
      "{精确模式}：对外经济贸易大学,副校长,洪,俊杰,致,欢迎辞,，,介绍,了,我校,入选,世界贸易组织,第三期,教席,计划,的,相关,情况,。,WTO,副总干事,张向晨,在,致辞,中,介绍,了,教席,项目,的,相关,背景,以及,中国,研究,机构,参与,教席,项目,的,相关,经历,，\n",
      "{搜索引擎模式}：对外,外经,经济,贸易,大学,对外经济贸易大学,校长,副校长,洪,俊杰,致,欢迎,欢迎辞,，,介绍,了,我校,入选,世界,贸易,组织,世界贸易组织,第三,三期,第三期,教席,计划,的,相关,情况,。,WTO,副总,干事,总干事,副总干事,张向晨,在,致辞,中,介绍,了,教席,项目,的,相关,背景,以及,中国,研究,机构,参与,教席,项目,的,相关,经历,，\n"
     ]
    }
   ],
   "source": [
    "#搜索引擎模式\n",
    "import jieba\n",
    "\n",
    "text='对外经济贸易大学副校长洪俊杰致欢迎辞，介绍了我校入选世界贸易组织第三期教席计划的相关情况。\\\n",
    "WTO副总干事张向晨在致辞中介绍了教席项目的相关背景以及中国研究机构参与教席项目的相关经历，'\n",
    "seg_list1=jieba.cut(text,cut_all=True) #全模式\n",
    "print ('{全模式}：'+','.join(seg_list1))\n",
    "seg_list2=jieba.cut(text,cut_all=False) #精确模式\n",
    "print ('{精确模式}：'+','.join(seg_list2))\n",
    "seg_list3=jieba.cut_for_search(text) #搜索引擎模式\n",
    "print ('{搜索引擎模式}：'+','.join(seg_list1))"
   ]
  },
  {
   "cell_type": "code",
   "execution_count": 9,
   "metadata": {},
   "outputs": [],
   "source": [
    "from IPython.core.display import display,HTML\n",
    "import bisect\n",
    "import jieba\n",
    "from collections import defaultdict\n",
    "\n",
    "class MySearchV6(MySearchV5):\n",
    "    '''\n",
    "    V0: Base Class\n",
    "    V1: Data vulunm added\n",
    "    V2：Sorting optimization\n",
    "    V3: Add a lowered version of docs\n",
    "    V4: for long doc\n",
    "    V5: add a cache,save old keywords result_set\n",
    "    V6: Precaching all words\n",
    "\n",
    "    Attributes\n",
    "    ---------\n",
    "    filename:str\n",
    "    multi_factor:int\n",
    "\n",
    "    methods:\n",
    "    ---------\n",
    "    load_data(filename):load data from disk\n",
    "    hightlight(text,keyword)\n",
    "        高亮文本中的关键词\n",
    "    score(text,keyword)\n",
    "        从给查询的文本打分\n",
    "    search(keyword)\n",
    "        get search result\n",
    "    render(result_list,keyword)\n",
    "        带高亮显示的输出结果\n",
    "    '''\n",
    "    def __init__(self,filename,multi_factor=1):\n",
    "        self.docs=[]\n",
    "        self.docs_lower=[] \n",
    "        self.search_cache=defaultdict(set) #不能使用字典-如果内容没有会直接报错 \n",
    "        #使用缺省字典 如果内容中没有返回空的\n",
    "        self.multi_factor=multi_factor  \n",
    "        self.load_data(filename)\n",
    "        self.pre_cache_all()\n",
    "\n",
    "    def pre_cache_all(self):\n",
    "        #每调用一条记录，jieba切词，词记录到字典中及对应id（tid）,重复的会自动覆盖\n",
    "        for tid, doc in enumerate(self.docs_lower):\n",
    "            for word in jieba.cut_for_search(doc):\n",
    "                self.search_cache[word].add(tid)"
   ]
  },
  {
   "cell_type": "code",
   "execution_count": 53,
   "metadata": {},
   "outputs": [
    {
     "name": "stdout",
     "output_type": "stream",
     "text": [
      "Wall time: 1min 20s\n"
     ]
    }
   ],
   "source": [
    "%time searcher=MySearchV6('titles1.txt',100)"
   ]
  },
  {
   "cell_type": "code",
   "execution_count": 55,
   "metadata": {},
   "outputs": [
    {
     "data": {
      "text/plain": [
       "17930"
      ]
     },
     "execution_count": 55,
     "metadata": {},
     "output_type": "execute_result"
    }
   ],
   "source": [
    "len(searcher.search_cache)"
   ]
  },
  {
   "cell_type": "code",
   "execution_count": 58,
   "metadata": {},
   "outputs": [
    {
     "name": "stdout",
     "output_type": "stream",
     "text": [
      "Wall time: 0 ns\n"
     ]
    }
   ],
   "source": [
    "keyword='迷信'\n",
    "%time search_result = searcher.search(keyword)"
   ]
  },
  {
   "cell_type": "code",
   "execution_count": 59,
   "metadata": {
    "collapsed": true
   },
   "outputs": [
    {
     "data": {
      "text/html": [
       "1、千万别再<span style='color:red'>迷信</span>0糖0卡了！10万人亲测：有癌症风险<br/>0糖”“0卡”的健康寓意，再次受到了挑战。国际著名医学期刊《公共科学图书馆·医学》（PLOS Medicine），近日刊发的一项有超10万人参与的队列研究，发现人工甜味剂，。而这些....."
      ],
      "text/plain": [
       "<IPython.core.display.HTML object>"
      ]
     },
     "metadata": {},
     "output_type": "display_data"
    },
    {
     "data": {
      "text/html": [
       "2、千万别再<span style='color:red'>迷信</span>0糖0卡了！10万人亲测：有癌症风险<br/>0糖”“0卡”的健康寓意，再次受到了挑战。国际著名医学期刊《公共科学图书馆·医学》（PLOS Medicine），近日刊发的一项有超10万人参与的队列研究，发现人工甜味剂，。而这些....."
      ],
      "text/plain": [
       "<IPython.core.display.HTML object>"
      ]
     },
     "metadata": {},
     "output_type": "display_data"
    },
    {
     "data": {
      "text/html": [
       "3、千万别再<span style='color:red'>迷信</span>0糖0卡了！10万人亲测：有癌症风险<br/>0糖”“0卡”的健康寓意，再次受到了挑战。国际著名医学期刊《公共科学图书馆·医学》（PLOS Medicine），近日刊发的一项有超10万人参与的队列研究，发现人工甜味剂，。而这些....."
      ],
      "text/plain": [
       "<IPython.core.display.HTML object>"
      ]
     },
     "metadata": {},
     "output_type": "display_data"
    },
    {
     "data": {
      "text/html": [
       "4、千万别再<span style='color:red'>迷信</span>0糖0卡了！10万人亲测：有癌症风险<br/>0糖”“0卡”的健康寓意，再次受到了挑战。国际著名医学期刊《公共科学图书馆·医学》（PLOS Medicine），近日刊发的一项有超10万人参与的队列研究，发现人工甜味剂，。而这些....."
      ],
      "text/plain": [
       "<IPython.core.display.HTML object>"
      ]
     },
     "metadata": {},
     "output_type": "display_data"
    },
    {
     "data": {
      "text/html": [
       "5、千万别再<span style='color:red'>迷信</span>0糖0卡了！10万人亲测：有癌症风险<br/>0糖”“0卡”的健康寓意，再次受到了挑战。国际著名医学期刊《公共科学图书馆·医学》（PLOS Medicine），近日刊发的一项有超10万人参与的队列研究，发现人工甜味剂，。而这些....."
      ],
      "text/plain": [
       "<IPython.core.display.HTML object>"
      ]
     },
     "metadata": {},
     "output_type": "display_data"
    },
    {
     "data": {
      "text/html": [
       "6、千万别再<span style='color:red'>迷信</span>0糖0卡了！10万人亲测：有癌症风险<br/>0糖”“0卡”的健康寓意，再次受到了挑战。国际著名医学期刊《公共科学图书馆·医学》（PLOS Medicine），近日刊发的一项有超10万人参与的队列研究，发现人工甜味剂，。而这些....."
      ],
      "text/plain": [
       "<IPython.core.display.HTML object>"
      ]
     },
     "metadata": {},
     "output_type": "display_data"
    },
    {
     "data": {
      "text/html": [
       "7、千万别再<span style='color:red'>迷信</span>0糖0卡了！10万人亲测：有癌症风险<br/>0糖”“0卡”的健康寓意，再次受到了挑战。国际著名医学期刊《公共科学图书馆·医学》（PLOS Medicine），近日刊发的一项有超10万人参与的队列研究，发现人工甜味剂，。而这些....."
      ],
      "text/plain": [
       "<IPython.core.display.HTML object>"
      ]
     },
     "metadata": {},
     "output_type": "display_data"
    },
    {
     "data": {
      "text/html": [
       "8、千万别再<span style='color:red'>迷信</span>0糖0卡了！10万人亲测：有癌症风险<br/>0糖”“0卡”的健康寓意，再次受到了挑战。国际著名医学期刊《公共科学图书馆·医学》（PLOS Medicine），近日刊发的一项有超10万人参与的队列研究，发现人工甜味剂，。而这些....."
      ],
      "text/plain": [
       "<IPython.core.display.HTML object>"
      ]
     },
     "metadata": {},
     "output_type": "display_data"
    },
    {
     "data": {
      "text/html": [
       "9、千万别再<span style='color:red'>迷信</span>0糖0卡了！10万人亲测：有癌症风险<br/>0糖”“0卡”的健康寓意，再次受到了挑战。国际著名医学期刊《公共科学图书馆·医学》（PLOS Medicine），近日刊发的一项有超10万人参与的队列研究，发现人工甜味剂，。而这些....."
      ],
      "text/plain": [
       "<IPython.core.display.HTML object>"
      ]
     },
     "metadata": {},
     "output_type": "display_data"
    },
    {
     "data": {
      "text/html": [
       "10、千万别再<span style='color:red'>迷信</span>0糖0卡了！10万人亲测：有癌症风险<br/>0糖”“0卡”的健康寓意，再次受到了挑战。国际著名医学期刊《公共科学图书馆·医学》（PLOS Medicine），近日刊发的一项有超10万人参与的队列研究，发现人工甜味剂，。而这些....."
      ],
      "text/plain": [
       "<IPython.core.display.HTML object>"
      ]
     },
     "metadata": {},
     "output_type": "display_data"
    }
   ],
   "source": [
    "searcher.render(search_result,keyword)"
   ]
  },
  {
   "cell_type": "code",
   "execution_count": null,
   "metadata": {},
   "outputs": [],
   "source": []
  },
  {
   "cell_type": "markdown",
   "metadata": {},
   "source": [
    "## 将前一天的缓存保存 只重新查增量\n",
    "\n",
    "利用序列化 反序列化功能\n",
    "\n",
    "倒排索引-信息检索的主流方法"
   ]
  },
  {
   "cell_type": "code",
   "execution_count": 21,
   "metadata": {},
   "outputs": [],
   "source": [
    "from IPython.core.display import display,HTML\n",
    "import bisect\n",
    "import jieba\n",
    "from collections import defaultdict\n",
    "import pickle\n",
    "\n",
    "class MySearchV7(MySearchV6):\n",
    "    '''\n",
    "    V0: Base Class\n",
    "    V1: Data vulunm added\n",
    "    V2：Sorting optimization\n",
    "    V3: Add a lowered version of docs\n",
    "    V4: for long doc\n",
    "    V5: add a cache,save old keywords result_set\n",
    "    V6: Precaching all words\n",
    "    V7: add serialize/unserialize function \n",
    "\n",
    "    Attributes\n",
    "    ---------\n",
    "    filename:str\n",
    "    multi_factor:int\n",
    "\n",
    "    methods:\n",
    "    ---------\n",
    "    load_data(filename):load data from disk\n",
    "    hightlight(text,keyword)\n",
    "        高亮文本中的关键词\n",
    "    score(text,keyword)\n",
    "        从给查询的文本打分\n",
    "    search(keyword)\n",
    "        get search result\n",
    "    render(result_list,keyword)\n",
    "        带高亮显示的输出结果\n",
    "    '''\n",
    "    \n",
    "    def __init__(self,filename,multi_factor=1):\n",
    "        self.docs=[]\n",
    "        self.docs_lower=[] \n",
    "        self.search_cache=defaultdict(set) #不能使用字典-如果内容没有会直接报错 \n",
    "        #使用缺省字典 如果内容中没有返回空的\n",
    "        self.multi_factor=multi_factor  \n",
    "        self.load_data(filename)\n",
    "\n",
    "    def load_data(self,filename): #根据文件名扩展名判断需不需要重新检索\n",
    "        if filename[-3:] =='txt':  #第一遍调用 切词 precache\n",
    "            with open(filename,encoding='utf-8') as f:\n",
    "                self.docs=f.read().split('\\n')\n",
    "            self.docs_lower=[doc.lower() for doc in self.docs] #加载的时候小写化，查询不再需要小写化\n",
    "            self.docs=self.docs*self.multi_factor\n",
    "            self.docs_lower=self.docs_lower*self.multi_factor\n",
    "            self.pre_cache_all()\n",
    "        elif filename[-3:]=='dat':\n",
    "            with open(filename,'rb') as f:#二进制文件读写用rb\n",
    "                self.docs,self.docs_lower,self.search_cache=pickle.load(f) #转换回原有的数据模式\n",
    "                \n",
    "    def save_data(self,filename): #以二进制形式写入磁盘内容\n",
    "        with open(filename,'wb') as f:\n",
    "            pickle.dump((self.docs,self.docs_lower, self.search_cache),f) #三个作为整体 写成元组\n",
    "            #dump往磁盘里写"
   ]
  },
  {
   "cell_type": "code",
   "execution_count": 22,
   "metadata": {},
   "outputs": [],
   "source": [
    "searcher=MySearchV7('titles1.txt',1)"
   ]
  },
  {
   "cell_type": "code",
   "execution_count": 23,
   "metadata": {},
   "outputs": [],
   "source": [
    "searcher.save_data('titles1.dat')"
   ]
  },
  {
   "cell_type": "code",
   "execution_count": 24,
   "metadata": {},
   "outputs": [
    {
     "data": {
      "text/plain": [
       "17938"
      ]
     },
     "execution_count": 24,
     "metadata": {},
     "output_type": "execute_result"
    }
   ],
   "source": [
    "len(searcher.search_cache)"
   ]
  },
  {
   "cell_type": "code",
   "execution_count": 25,
   "metadata": {},
   "outputs": [],
   "source": [
    "searcher=MySearchV7('titles1.dat',1)"
   ]
  },
  {
   "cell_type": "code",
   "execution_count": 26,
   "metadata": {},
   "outputs": [
    {
     "data": {
      "text/plain": [
       "17938"
      ]
     },
     "execution_count": 26,
     "metadata": {},
     "output_type": "execute_result"
    }
   ],
   "source": [
    "len(searcher.search_cache)"
   ]
  },
  {
   "cell_type": "code",
   "execution_count": 28,
   "metadata": {},
   "outputs": [
    {
     "data": {
      "text/html": [
       "1、iPadOS即将大改！遗憾还是比不过PC<br/><span style='color:red'>苹果</span>已经宣布，将会在今年6月份举行一年一度的WWDC开发者大会。按照往年的惯例，<span style='color:red'>苹果</span>旗下的操作系统会在WWDC上公布更新换代的....."
      ],
      "text/plain": [
       "<IPython.core.display.HTML object>"
      ]
     },
     "metadata": {},
     "output_type": "display_data"
    },
    {
     "data": {
      "text/html": [
       "2、<span style='color:red'>苹果</span>Mac产品线全系大升级：重磅芯片加持<br/>根据最近的开发者日志，<span style='color:red'>苹果</span>已开始对几款搭载下一代M2芯片的新款Mac电脑进行广泛的内部测试。<span style='colo....."
      ],
      "text/plain": [
       "<IPython.core.display.HTML object>"
      ]
     },
     "metadata": {},
     "output_type": "display_data"
    },
    {
     "data": {
      "text/html": [
       "3、赶快囤了？<span style='color:red'>苹果</span>今年9月行动：欲放弃一代神机<br/>作为一代神机，iPhone 11系列应该很快被<span style='color:red'>苹果</span>彻底放弃，这也是为自家SE等系列让路。其实早在2020年的时候，<span....."
      ],
      "text/plain": [
       "<IPython.core.display.HTML object>"
      ]
     },
     "metadata": {},
     "output_type": "display_data"
    },
    {
     "data": {
      "text/html": [
       "4、不止屏下Face ID！曝iPhone 15 Pro将搭载潜望式镜头<br/>从这段时间的多方爆料来看，<span style='color:red'>苹果</span>将在iPhone 14 Pro系列彻底砍掉刘海，采用挖孔屏的方案，会极大的提升屏占比。同时，<span style='color:....."
      ],
      "text/plain": [
       "<IPython.core.display.HTML object>"
      ]
     },
     "metadata": {},
     "output_type": "display_data"
    },
    {
     "data": {
      "text/html": [
       "5、<span style='color:red'>苹果</span>9款新品齐曝光：自研大杀器来了 CPU/GPU核心飙升<br/>据外媒最新消息称，<span style='color:red'>苹果</span>正在测试新一代M2芯片，而测试的机型中至少9款新的Mac电脑。据悉，上述这些产品搭载基....."
      ],
      "text/plain": [
       "<IPython.core.display.HTML object>"
      ]
     },
     "metadata": {},
     "output_type": "display_data"
    },
    {
     "data": {
      "text/html": [
       "6、iPhone最大组装厂因疫情受影响？富士康回应<br/>今日，有消息称，由于郑州航空港实验区出现疫情，富士康郑州厂区iPhone组装或将受到影响。，资料显示，富士康郑州航空港厂区是<span style='color:red'>苹果</span>iPhone最大组装地点，是富士康组装<span st....."
      ],
      "text/plain": [
       "<IPython.core.display.HTML object>"
      ]
     },
     "metadata": {},
     "output_type": "display_data"
    },
    {
     "data": {
      "text/html": [
       "7、iPhone 14 Pro/13 Pro对比效果图：：挖孔硕大 失望！<br/>综合目前传闻来看，iPhone 14 Pro将改为挖孔屏的事实已经基本确定，只是挖孔的形态究竟会被<span style='color:red'>苹果</span>做出什么效果还不得而知。但从多方传闻来看，<span s....."
      ],
      "text/plain": [
       "<IPython.core.display.HTML object>"
      ]
     },
     "metadata": {},
     "output_type": "display_data"
    },
    {
     "data": {
      "text/html": [
       "8、前所未见！<span style='color:red'>苹果</span>全新操作系统首曝：专为最贵新品开发<br/>一份新的行业报告称，<span style='color:red'>苹果</span>正计划为传闻已久的Apple Car配备自己的中央集成操作系统，类似于特斯拉拥有一个系统来操作....."
      ],
      "text/plain": [
       "<IPython.core.display.HTML object>"
      ]
     },
     "metadata": {},
     "output_type": "display_data"
    },
    {
     "data": {
      "text/html": [
       "9、打破x86/ARM垄断：第三大CPU架构的春天来了<br/>市场和资本对AI的态度回归理性之时，AI领导者们之间的较量也变得愈加激烈。一个很明确的信号是，目前全球最权威的AI基准测试（Benchmark）之一MLPerf，其基准测试成绩正在被你追我赶的AI领导者们不断刷新。作为现有的50多家MLPe....."
      ],
      "text/plain": [
       "<IPython.core.display.HTML object>"
      ]
     },
     "metadata": {},
     "output_type": "display_data"
    },
    {
     "data": {
      "text/html": [
       "10、芯片行业：正猛烈巨变<br/>五年前，英特尔的市值相当于英伟达和AMD的总和。如今，英伟达的市值与另外两家公司相当。台积电的股价也在飙升，反映出半导体行业在过去10年发生了巨大的变化。就在不久前，英特尔公司还是美国芯片制造商中无可置疑的王者，也是市值最大的半导体公司。而且大多数计算都是通过个人电脑完....."
      ],
      "text/plain": [
       "<IPython.core.display.HTML object>"
      ]
     },
     "metadata": {},
     "output_type": "display_data"
    }
   ],
   "source": [
    "keyword='苹果'\n",
    "search_result=searcher.search(keyword,num=10)\n",
    "searcher.render(search_result,keyword)"
   ]
  },
  {
   "cell_type": "code",
   "execution_count": null,
   "metadata": {},
   "outputs": [],
   "source": []
  }
 ],
 "metadata": {
  "kernelspec": {
   "display_name": "Python 3",
   "language": "python",
   "name": "python3"
  },
  "language_info": {
   "codemirror_mode": {
    "name": "ipython",
    "version": 3
   },
   "file_extension": ".py",
   "mimetype": "text/x-python",
   "name": "python",
   "nbconvert_exporter": "python",
   "pygments_lexer": "ipython3",
   "version": "3.8.5"
  }
 },
 "nbformat": 4,
 "nbformat_minor": 4
}
