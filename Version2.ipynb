{
 "cells": [
  {
   "cell_type": "code",
   "execution_count": 12,
   "metadata": {},
   "outputs": [
    {
     "name": "stdout",
     "output_type": "stream",
     "text": [
      "['媒体：30%离婚原因与手机有关', '小伙在俄罗斯花170元加76升油：比矿泉还便宜', '快科技5.0发布！全新界面、新增两大栏目', '出租车司机夜间行车乱喊吓坏乘客 公司：已解雇', 'Redmi K50系列来了！有两项关键参数堪称绝配', '工信部“回头看”整治APP侵害用户权益：安兔兔、360被点名', '双倍快乐 苹果新款Mac Pro曝光：用两颗M1 Ultra粘一起', '丰田首款全新电动车国内亮相：毫无“丰田油车”影子', '华为首款鸿蒙OS 2墨水平板国内定档！3月16日见', '曝苹果正备战iPhone 14！A15/A16芯片各备货5000万颗']\n"
     ]
    }
   ],
   "source": [
    "import requests\n",
    "from bs4 import BeautifulSoup\n",
    "\n",
    "url='https://www.mydrivers.com/'\n",
    "response=requests.get(url).content.decode('utf-8')\n",
    "soup=BeautifulSoup(response,'html.parser')\n",
    "content=soup.find_all('span',class_='titl')\n",
    "titles=[]\n",
    "for i in content:\n",
    "    title=i.find('a')\n",
    "    titles.append(title.text)\n",
    "print(titles[:10])"
   ]
  },
  {
   "cell_type": "code",
   "execution_count": 13,
   "metadata": {},
   "outputs": [],
   "source": [
    "with open('d://python data/titles.txt','w') as f:\n",
    "    for line in titles:\n",
    "        f.write(''.join(line)+'\\n')"
   ]
  },
  {
   "cell_type": "code",
   "execution_count": 16,
   "metadata": {},
   "outputs": [
    {
     "name": "stdout",
     "output_type": "stream",
     "text": [
      "511\n"
     ]
    }
   ],
   "source": [
    "with open('d://python data/titles.txt') as f:\n",
    "    title_list=f.read().split('\\n')\n",
    "print(len(title_list))"
   ]
  },
  {
   "cell_type": "code",
   "execution_count": 23,
   "metadata": {},
   "outputs": [
    {
     "name": "stdout",
     "output_type": "stream",
     "text": [
      "[9, 15, 43, 44, 75, 87, 216, 296, 300, 301, 308, 313, 328, 334, 335, 338, 339, 341, 343, 457]\n"
     ]
    }
   ],
   "source": [
    "keyword='iphone'\n",
    "result_list=[]\n",
    "for tid,title in enumerate(title_list):\n",
    "    if keyword.lower() in title.lower():\n",
    "        result_list.append(tid)\n",
    "print(result_list)"
   ]
  },
  {
   "cell_type": "code",
   "execution_count": 24,
   "metadata": {},
   "outputs": [
    {
     "name": "stdout",
     "output_type": "stream",
     "text": [
      "1、曝苹果正备战iPhone 14！A15/A16芯片各备货5000万颗\n",
      "2、富士康深圳工厂暂停生产iPhone 备援厂区已工作：果粉放心\n",
      "3、曝iPhone14系列用老芯片：仅Pro机型采用A16 标准版仍是A15\n",
      "4、苹果代工巨头深圳工厂暂停生产！iPhone产量难了\n",
      "5、四款齐发！iPhone 14核心配置曝光：苹果逼你买贵的节奏\n",
      "6、苹果差别对待！iPhone 14系列内存大曝光：入门版被阉割\n",
      "7、iPhone 13 Pro做不到 Redmi K50系列手机首批支持两大绝技\n",
      "8、曝苹果正备战iPhone 14！A15/A16芯片各备货5000万颗\n",
      "9、曝iPhone14系列用老芯片：仅Pro机型采用A16 标准版仍是A15\n",
      "10、苹果代工巨头深圳工厂暂停生产！iPhone产量难了\n",
      "11、四款齐发！iPhone 14核心配置曝光：苹果逼你买贵的节奏\n",
      "12、苹果差别对待！iPhone 14系列内存大曝光：入门版被阉割\n",
      "13、iPhone 13 Pro做不到 Redmi K50系列手机首批支持两大绝技\n",
      "14、5999元起！iPhone 13新版真机上手：全新配色有爱吗？\n",
      "15、大V实测iPhone 13苍岭绿已预装iOS 15.4：能戴口罩解锁\n",
      "16、便宜500！拼多多百亿补贴iPhone 13绿色、iPhone SE等上架\n",
      "17、曝华为将推新款25W 快充充电器 网友：可以给iPhone\n",
      "18、iPhone SE是时候说再见了！慎入\n",
      "19、安卓都把风扇做进手机了 为什么iPhone还不重视散热\n",
      "20、富士康深圳工厂暂停生产iPhone 备援厂区已工作：果粉放心\n"
     ]
    }
   ],
   "source": [
    "count=1\n",
    "for item in result_list:\n",
    "    print('{}、{}'.format(count,title_list[item]))\n",
    "    count+=1"
   ]
  },
  {
   "cell_type": "markdown",
   "metadata": {},
   "source": [
    "###关键词高亮显示"
   ]
  },
  {
   "cell_type": "code",
   "execution_count": 26,
   "metadata": {},
   "outputs": [
    {
     "data": {
      "text/html": [
       "1、曝苹果正备战<span style=\"color:red\">iPhone</span> 14！A15/A16芯片各备货5000万颗"
      ],
      "text/plain": [
       "<IPython.core.display.HTML object>"
      ]
     },
     "metadata": {},
     "output_type": "display_data"
    },
    {
     "data": {
      "text/html": [
       "2、富士康深圳工厂暂停生产<span style=\"color:red\">iPhone</span> 备援厂区已工作：果粉放心"
      ],
      "text/plain": [
       "<IPython.core.display.HTML object>"
      ]
     },
     "metadata": {},
     "output_type": "display_data"
    },
    {
     "data": {
      "text/html": [
       "3、曝<span style=\"color:red\">iPhone</span>14系列用老芯片：仅Pro机型采用A16 标准版仍是A15"
      ],
      "text/plain": [
       "<IPython.core.display.HTML object>"
      ]
     },
     "metadata": {},
     "output_type": "display_data"
    },
    {
     "data": {
      "text/html": [
       "4、苹果代工巨头深圳工厂暂停生产！<span style=\"color:red\">iPhone</span>产量难了"
      ],
      "text/plain": [
       "<IPython.core.display.HTML object>"
      ]
     },
     "metadata": {},
     "output_type": "display_data"
    },
    {
     "data": {
      "text/html": [
       "5、四款齐发！<span style=\"color:red\">iPhone</span> 14核心配置曝光：苹果逼你买贵的节奏"
      ],
      "text/plain": [
       "<IPython.core.display.HTML object>"
      ]
     },
     "metadata": {},
     "output_type": "display_data"
    },
    {
     "data": {
      "text/html": [
       "6、苹果差别对待！<span style=\"color:red\">iPhone</span> 14系列内存大曝光：入门版被阉割"
      ],
      "text/plain": [
       "<IPython.core.display.HTML object>"
      ]
     },
     "metadata": {},
     "output_type": "display_data"
    },
    {
     "data": {
      "text/html": [
       "7、<span style=\"color:red\">iPhone</span> 13 Pro做不到 Redmi K50系列手机首批支持两大绝技"
      ],
      "text/plain": [
       "<IPython.core.display.HTML object>"
      ]
     },
     "metadata": {},
     "output_type": "display_data"
    },
    {
     "data": {
      "text/html": [
       "8、曝苹果正备战<span style=\"color:red\">iPhone</span> 14！A15/A16芯片各备货5000万颗"
      ],
      "text/plain": [
       "<IPython.core.display.HTML object>"
      ]
     },
     "metadata": {},
     "output_type": "display_data"
    },
    {
     "data": {
      "text/html": [
       "9、曝<span style=\"color:red\">iPhone</span>14系列用老芯片：仅Pro机型采用A16 标准版仍是A15"
      ],
      "text/plain": [
       "<IPython.core.display.HTML object>"
      ]
     },
     "metadata": {},
     "output_type": "display_data"
    },
    {
     "data": {
      "text/html": [
       "10、苹果代工巨头深圳工厂暂停生产！<span style=\"color:red\">iPhone</span>产量难了"
      ],
      "text/plain": [
       "<IPython.core.display.HTML object>"
      ]
     },
     "metadata": {},
     "output_type": "display_data"
    },
    {
     "data": {
      "text/html": [
       "11、四款齐发！<span style=\"color:red\">iPhone</span> 14核心配置曝光：苹果逼你买贵的节奏"
      ],
      "text/plain": [
       "<IPython.core.display.HTML object>"
      ]
     },
     "metadata": {},
     "output_type": "display_data"
    },
    {
     "data": {
      "text/html": [
       "12、苹果差别对待！<span style=\"color:red\">iPhone</span> 14系列内存大曝光：入门版被阉割"
      ],
      "text/plain": [
       "<IPython.core.display.HTML object>"
      ]
     },
     "metadata": {},
     "output_type": "display_data"
    },
    {
     "data": {
      "text/html": [
       "13、<span style=\"color:red\">iPhone</span> 13 Pro做不到 Redmi K50系列手机首批支持两大绝技"
      ],
      "text/plain": [
       "<IPython.core.display.HTML object>"
      ]
     },
     "metadata": {},
     "output_type": "display_data"
    },
    {
     "data": {
      "text/html": [
       "14、5999元起！<span style=\"color:red\">iPhone</span> 13新版真机上手：全新配色有爱吗？"
      ],
      "text/plain": [
       "<IPython.core.display.HTML object>"
      ]
     },
     "metadata": {},
     "output_type": "display_data"
    },
    {
     "data": {
      "text/html": [
       "15、大V实测<span style=\"color:red\">iPhone</span> 13苍岭绿已预装iOS 15.4：能戴口罩解锁"
      ],
      "text/plain": [
       "<IPython.core.display.HTML object>"
      ]
     },
     "metadata": {},
     "output_type": "display_data"
    },
    {
     "data": {
      "text/html": [
       "16、便宜500！拼多多百亿补贴<span style=\"color:red\">iPhone</span> 13绿色、<span style=\"color:red\">iPhone</span> SE等上架"
      ],
      "text/plain": [
       "<IPython.core.display.HTML object>"
      ]
     },
     "metadata": {},
     "output_type": "display_data"
    },
    {
     "data": {
      "text/html": [
       "17、曝华为将推新款25W 快充充电器 网友：可以给<span style=\"color:red\">iPhone</span>"
      ],
      "text/plain": [
       "<IPython.core.display.HTML object>"
      ]
     },
     "metadata": {},
     "output_type": "display_data"
    },
    {
     "data": {
      "text/html": [
       "18、<span style=\"color:red\">iPhone</span> SE是时候说再见了！慎入"
      ],
      "text/plain": [
       "<IPython.core.display.HTML object>"
      ]
     },
     "metadata": {},
     "output_type": "display_data"
    },
    {
     "data": {
      "text/html": [
       "19、安卓都把风扇做进手机了 为什么<span style=\"color:red\">iPhone</span>还不重视散热"
      ],
      "text/plain": [
       "<IPython.core.display.HTML object>"
      ]
     },
     "metadata": {},
     "output_type": "display_data"
    },
    {
     "data": {
      "text/html": [
       "20、富士康深圳工厂暂停生产<span style=\"color:red\">iPhone</span> 备援厂区已工作：果粉放心"
      ],
      "text/plain": [
       "<IPython.core.display.HTML object>"
      ]
     },
     "metadata": {},
     "output_type": "display_data"
    }
   ],
   "source": [
    "from IPython.core.display import display,HTML\n",
    "\n",
    "def highlight(text,keyword):\n",
    "    idx=text.lower().find(keyword.lower())\n",
    "    result=text\n",
    "    if idx>=0:\n",
    "        ori_keyword=text[idx:idx+len(keyword)]\n",
    "        result=text.replace(ori_keyword,'<span style=\"color:red\">{}</span>'.format(ori_keyword))\n",
    "    return result\n",
    "\n",
    "count=1\n",
    "for item in result_list:\n",
    "    display(HTML('{}、{}'.format(count,highlight(title_list[item],keyword))))\n",
    "    count+=1"
   ]
  },
  {
   "cell_type": "code",
   "execution_count": 27,
   "metadata": {},
   "outputs": [
    {
     "name": "stdout",
     "output_type": "stream",
     "text": [
      "[[338, 2], [9, 1], [15, 1], [43, 1], [44, 1], [75, 1], [87, 1], [216, 1], [296, 1], [300, 1], [301, 1], [308, 1], [313, 1], [328, 1], [334, 1], [335, 1], [339, 1], [341, 1], [343, 1], [457, 1]]\n"
     ]
    }
   ],
   "source": [
    "def score(text,keyword):\n",
    "    result=text.lower().count(keyword.lower())\n",
    "    return result\n",
    "\n",
    "keyword='iphone'\n",
    "result_list=[]\n",
    "for tid,title in enumerate(title_list):\n",
    "    if keyword.lower() in title.lower():\n",
    "        result_list.append([tid,score(title,keyword)])\n",
    "result_list.sort(key=lambda x:x[1],reverse=True)\n",
    "print(result_list)"
   ]
  },
  {
   "cell_type": "markdown",
   "metadata": {
    "collapsed": true
   },
   "source": [
    "1、打分函数score\n",
    "2、查询函数search\n",
    "3、高亮函数highlight\n",
    "4、展示函数render"
   ]
  },
  {
   "cell_type": "code",
   "execution_count": 31,
   "metadata": {},
   "outputs": [],
   "source": [
    "from IPython.core.display import display,HTML\n",
    "\n",
    "###打分函数\n",
    "def score(text,keyword):\n",
    "    result=text.lower().count(keyword.lower())\n",
    "    return result\n",
    "\n",
    "###高亮显示函数\n",
    "def highlight(text,keyword):\n",
    "    idx=text.lower().find(keyword.lower())\n",
    "    result=text\n",
    "    if idx>=0:\n",
    "        ori_keyword=text[idx:idx+len(keyword)]\n",
    "        result=text.replace(ori_keyword,'<span style=\"color:red\">{}</span>'.format(ori_keyword))\n",
    "    return result \n",
    "###查询函数\n",
    "def search(keyword,docs):\n",
    "    result_list=[]\n",
    "    for tid,title in enumerate(docs):\n",
    "        if keyword.lower() in title.lower():\n",
    "            result_list.append([tid,score(title,keyword)])\n",
    "        result_list.sort(key=lambda x:x[1],reverse=True)\n",
    "    return [doc_id for doc_id,_ in result_list]\n",
    "###展示函数\n",
    "def render(result_list,keyword,doc_list):\n",
    "    count=1\n",
    "    for item in result_list:\n",
    "        display(HTML('{}、{}'.format(count,highlight(doc_list[item],keyword))))\n",
    "        count+=1"
   ]
  },
  {
   "cell_type": "code",
   "execution_count": 32,
   "metadata": {},
   "outputs": [],
   "source": [
    "keyword='iphone'\n",
    "search_result=search(keyword,title_list)"
   ]
  },
  {
   "cell_type": "code",
   "execution_count": 33,
   "metadata": {},
   "outputs": [
    {
     "data": {
      "text/html": [
       "1、便宜500！拼多多百亿补贴<span style=\"color:red\">iPhone</span> 13绿色、<span style=\"color:red\">iPhone</span> SE等上架"
      ],
      "text/plain": [
       "<IPython.core.display.HTML object>"
      ]
     },
     "metadata": {},
     "output_type": "display_data"
    },
    {
     "data": {
      "text/html": [
       "1、曝苹果正备战<span style=\"color:red\">iPhone</span> 14！A15/A16芯片各备货5000万颗"
      ],
      "text/plain": [
       "<IPython.core.display.HTML object>"
      ]
     },
     "metadata": {},
     "output_type": "display_data"
    },
    {
     "data": {
      "text/html": [
       "1、富士康深圳工厂暂停生产<span style=\"color:red\">iPhone</span> 备援厂区已工作：果粉放心"
      ],
      "text/plain": [
       "<IPython.core.display.HTML object>"
      ]
     },
     "metadata": {},
     "output_type": "display_data"
    },
    {
     "data": {
      "text/html": [
       "1、曝<span style=\"color:red\">iPhone</span>14系列用老芯片：仅Pro机型采用A16 标准版仍是A15"
      ],
      "text/plain": [
       "<IPython.core.display.HTML object>"
      ]
     },
     "metadata": {},
     "output_type": "display_data"
    },
    {
     "data": {
      "text/html": [
       "1、苹果代工巨头深圳工厂暂停生产！<span style=\"color:red\">iPhone</span>产量难了"
      ],
      "text/plain": [
       "<IPython.core.display.HTML object>"
      ]
     },
     "metadata": {},
     "output_type": "display_data"
    },
    {
     "data": {
      "text/html": [
       "1、四款齐发！<span style=\"color:red\">iPhone</span> 14核心配置曝光：苹果逼你买贵的节奏"
      ],
      "text/plain": [
       "<IPython.core.display.HTML object>"
      ]
     },
     "metadata": {},
     "output_type": "display_data"
    },
    {
     "data": {
      "text/html": [
       "1、苹果差别对待！<span style=\"color:red\">iPhone</span> 14系列内存大曝光：入门版被阉割"
      ],
      "text/plain": [
       "<IPython.core.display.HTML object>"
      ]
     },
     "metadata": {},
     "output_type": "display_data"
    },
    {
     "data": {
      "text/html": [
       "1、<span style=\"color:red\">iPhone</span> 13 Pro做不到 Redmi K50系列手机首批支持两大绝技"
      ],
      "text/plain": [
       "<IPython.core.display.HTML object>"
      ]
     },
     "metadata": {},
     "output_type": "display_data"
    },
    {
     "data": {
      "text/html": [
       "1、曝苹果正备战<span style=\"color:red\">iPhone</span> 14！A15/A16芯片各备货5000万颗"
      ],
      "text/plain": [
       "<IPython.core.display.HTML object>"
      ]
     },
     "metadata": {},
     "output_type": "display_data"
    },
    {
     "data": {
      "text/html": [
       "1、曝<span style=\"color:red\">iPhone</span>14系列用老芯片：仅Pro机型采用A16 标准版仍是A15"
      ],
      "text/plain": [
       "<IPython.core.display.HTML object>"
      ]
     },
     "metadata": {},
     "output_type": "display_data"
    },
    {
     "data": {
      "text/html": [
       "1、苹果代工巨头深圳工厂暂停生产！<span style=\"color:red\">iPhone</span>产量难了"
      ],
      "text/plain": [
       "<IPython.core.display.HTML object>"
      ]
     },
     "metadata": {},
     "output_type": "display_data"
    },
    {
     "data": {
      "text/html": [
       "1、四款齐发！<span style=\"color:red\">iPhone</span> 14核心配置曝光：苹果逼你买贵的节奏"
      ],
      "text/plain": [
       "<IPython.core.display.HTML object>"
      ]
     },
     "metadata": {},
     "output_type": "display_data"
    },
    {
     "data": {
      "text/html": [
       "1、苹果差别对待！<span style=\"color:red\">iPhone</span> 14系列内存大曝光：入门版被阉割"
      ],
      "text/plain": [
       "<IPython.core.display.HTML object>"
      ]
     },
     "metadata": {},
     "output_type": "display_data"
    },
    {
     "data": {
      "text/html": [
       "1、<span style=\"color:red\">iPhone</span> 13 Pro做不到 Redmi K50系列手机首批支持两大绝技"
      ],
      "text/plain": [
       "<IPython.core.display.HTML object>"
      ]
     },
     "metadata": {},
     "output_type": "display_data"
    },
    {
     "data": {
      "text/html": [
       "1、5999元起！<span style=\"color:red\">iPhone</span> 13新版真机上手：全新配色有爱吗？"
      ],
      "text/plain": [
       "<IPython.core.display.HTML object>"
      ]
     },
     "metadata": {},
     "output_type": "display_data"
    },
    {
     "data": {
      "text/html": [
       "1、大V实测<span style=\"color:red\">iPhone</span> 13苍岭绿已预装iOS 15.4：能戴口罩解锁"
      ],
      "text/plain": [
       "<IPython.core.display.HTML object>"
      ]
     },
     "metadata": {},
     "output_type": "display_data"
    },
    {
     "data": {
      "text/html": [
       "1、曝华为将推新款25W 快充充电器 网友：可以给<span style=\"color:red\">iPhone</span>"
      ],
      "text/plain": [
       "<IPython.core.display.HTML object>"
      ]
     },
     "metadata": {},
     "output_type": "display_data"
    },
    {
     "data": {
      "text/html": [
       "1、<span style=\"color:red\">iPhone</span> SE是时候说再见了！慎入"
      ],
      "text/plain": [
       "<IPython.core.display.HTML object>"
      ]
     },
     "metadata": {},
     "output_type": "display_data"
    },
    {
     "data": {
      "text/html": [
       "1、安卓都把风扇做进手机了 为什么<span style=\"color:red\">iPhone</span>还不重视散热"
      ],
      "text/plain": [
       "<IPython.core.display.HTML object>"
      ]
     },
     "metadata": {},
     "output_type": "display_data"
    },
    {
     "data": {
      "text/html": [
       "1、富士康深圳工厂暂停生产<span style=\"color:red\">iPhone</span> 备援厂区已工作：果粉放心"
      ],
      "text/plain": [
       "<IPython.core.display.HTML object>"
      ]
     },
     "metadata": {},
     "output_type": "display_data"
    }
   ],
   "source": [
    "render(search_result,keyword,title_list)"
   ]
  },
  {
   "cell_type": "code",
   "execution_count": 36,
   "metadata": {},
   "outputs": [],
   "source": [
    "from IPython.core.display import display,HTML\n",
    "\"\"\"\n",
    "信息检索类\n",
    "——————\n",
    "属性：filename\n",
    "——————\n",
    "方法：\n",
    "load_data(filename) #从磁盘导入数据\n",
    "score(text,keyword) #结果打分函数\n",
    "highlight(text,keyword) #高亮文本中的关键词\n",
    "search(keyword,doc) #获得查询结果并排序\n",
    "render(result_list,keyword,doc_list) #高亮展示结果\n",
    "\"\"\"\n",
    "class MySearchV0():\n",
    "    def __init__(self,filename):\n",
    "        self.docs=[]\n",
    "        self.load_data(filename)\n",
    "    def load_data(self,filename):\n",
    "        with open(filename) as f:\n",
    "            self.docs=f.read().split('\\n')\n",
    "    ###打分函数\n",
    "    def score(self,text,keyword):\n",
    "        result=text.lower().count(keyword.lower())\n",
    "        return result\n",
    "    ###高亮显示函数\n",
    "    def highlight(self,text,keyword):\n",
    "        idx=text.lower().find(keyword.lower())\n",
    "        result=text\n",
    "        if idx>=0:\n",
    "            ori_keyword=text[idx:idx+len(keyword)]\n",
    "            result=text.replace(ori_keyword,'<span style=\"color:red\">{}</span>'.format(ori_keyword))\n",
    "        return result\n",
    "    ###查询函数\n",
    "    def search(self,keyword):\n",
    "        result_list=[]\n",
    "        for tid,title in enumerate(self.docs):\n",
    "            if keyword.lower() in title.lower():\n",
    "                result_list.append([tid,self.score(title,keyword)])\n",
    "            result_list.sort(key=lambda x:x[1],reverse=True)\n",
    "        return [doc_id for doc_id,_ in result_list]\n",
    "    ###展示函数\n",
    "    def render(self,result_list,keyword):\n",
    "        count=1\n",
    "        for item in result_list:\n",
    "            display(HTML('{}、{}'.format(count,self.highlight(self.docs[item],keyword))))\n",
    "            count+=1"
   ]
  },
  {
   "cell_type": "code",
   "execution_count": 37,
   "metadata": {},
   "outputs": [],
   "source": [
    "searcher=MySearchV0('d:/python data/titles.txt')"
   ]
  },
  {
   "cell_type": "code",
   "execution_count": 44,
   "metadata": {},
   "outputs": [
    {
     "data": {
      "text/html": [
       "1、便宜500！拼多多百亿补贴<span style=\"color:red\">iPhone</span> 13绿色、<span style=\"color:red\">iPhone</span> SE等上架"
      ],
      "text/plain": [
       "<IPython.core.display.HTML object>"
      ]
     },
     "metadata": {},
     "output_type": "display_data"
    },
    {
     "data": {
      "text/html": [
       "2、曝苹果正备战<span style=\"color:red\">iPhone</span> 14！A15/A16芯片各备货5000万颗"
      ],
      "text/plain": [
       "<IPython.core.display.HTML object>"
      ]
     },
     "metadata": {},
     "output_type": "display_data"
    },
    {
     "data": {
      "text/html": [
       "3、富士康深圳工厂暂停生产<span style=\"color:red\">iPhone</span> 备援厂区已工作：果粉放心"
      ],
      "text/plain": [
       "<IPython.core.display.HTML object>"
      ]
     },
     "metadata": {},
     "output_type": "display_data"
    },
    {
     "data": {
      "text/html": [
       "4、曝<span style=\"color:red\">iPhone</span>14系列用老芯片：仅Pro机型采用A16 标准版仍是A15"
      ],
      "text/plain": [
       "<IPython.core.display.HTML object>"
      ]
     },
     "metadata": {},
     "output_type": "display_data"
    },
    {
     "data": {
      "text/html": [
       "5、苹果代工巨头深圳工厂暂停生产！<span style=\"color:red\">iPhone</span>产量难了"
      ],
      "text/plain": [
       "<IPython.core.display.HTML object>"
      ]
     },
     "metadata": {},
     "output_type": "display_data"
    },
    {
     "data": {
      "text/html": [
       "6、四款齐发！<span style=\"color:red\">iPhone</span> 14核心配置曝光：苹果逼你买贵的节奏"
      ],
      "text/plain": [
       "<IPython.core.display.HTML object>"
      ]
     },
     "metadata": {},
     "output_type": "display_data"
    },
    {
     "data": {
      "text/html": [
       "7、苹果差别对待！<span style=\"color:red\">iPhone</span> 14系列内存大曝光：入门版被阉割"
      ],
      "text/plain": [
       "<IPython.core.display.HTML object>"
      ]
     },
     "metadata": {},
     "output_type": "display_data"
    },
    {
     "data": {
      "text/html": [
       "8、<span style=\"color:red\">iPhone</span> 13 Pro做不到 Redmi K50系列手机首批支持两大绝技"
      ],
      "text/plain": [
       "<IPython.core.display.HTML object>"
      ]
     },
     "metadata": {},
     "output_type": "display_data"
    },
    {
     "data": {
      "text/html": [
       "9、曝苹果正备战<span style=\"color:red\">iPhone</span> 14！A15/A16芯片各备货5000万颗"
      ],
      "text/plain": [
       "<IPython.core.display.HTML object>"
      ]
     },
     "metadata": {},
     "output_type": "display_data"
    },
    {
     "data": {
      "text/html": [
       "10、曝<span style=\"color:red\">iPhone</span>14系列用老芯片：仅Pro机型采用A16 标准版仍是A15"
      ],
      "text/plain": [
       "<IPython.core.display.HTML object>"
      ]
     },
     "metadata": {},
     "output_type": "display_data"
    },
    {
     "data": {
      "text/html": [
       "11、苹果代工巨头深圳工厂暂停生产！<span style=\"color:red\">iPhone</span>产量难了"
      ],
      "text/plain": [
       "<IPython.core.display.HTML object>"
      ]
     },
     "metadata": {},
     "output_type": "display_data"
    },
    {
     "data": {
      "text/html": [
       "12、四款齐发！<span style=\"color:red\">iPhone</span> 14核心配置曝光：苹果逼你买贵的节奏"
      ],
      "text/plain": [
       "<IPython.core.display.HTML object>"
      ]
     },
     "metadata": {},
     "output_type": "display_data"
    },
    {
     "data": {
      "text/html": [
       "13、苹果差别对待！<span style=\"color:red\">iPhone</span> 14系列内存大曝光：入门版被阉割"
      ],
      "text/plain": [
       "<IPython.core.display.HTML object>"
      ]
     },
     "metadata": {},
     "output_type": "display_data"
    },
    {
     "data": {
      "text/html": [
       "14、<span style=\"color:red\">iPhone</span> 13 Pro做不到 Redmi K50系列手机首批支持两大绝技"
      ],
      "text/plain": [
       "<IPython.core.display.HTML object>"
      ]
     },
     "metadata": {},
     "output_type": "display_data"
    },
    {
     "data": {
      "text/html": [
       "15、5999元起！<span style=\"color:red\">iPhone</span> 13新版真机上手：全新配色有爱吗？"
      ],
      "text/plain": [
       "<IPython.core.display.HTML object>"
      ]
     },
     "metadata": {},
     "output_type": "display_data"
    },
    {
     "data": {
      "text/html": [
       "16、大V实测<span style=\"color:red\">iPhone</span> 13苍岭绿已预装iOS 15.4：能戴口罩解锁"
      ],
      "text/plain": [
       "<IPython.core.display.HTML object>"
      ]
     },
     "metadata": {},
     "output_type": "display_data"
    },
    {
     "data": {
      "text/html": [
       "17、曝华为将推新款25W 快充充电器 网友：可以给<span style=\"color:red\">iPhone</span>"
      ],
      "text/plain": [
       "<IPython.core.display.HTML object>"
      ]
     },
     "metadata": {},
     "output_type": "display_data"
    },
    {
     "data": {
      "text/html": [
       "18、<span style=\"color:red\">iPhone</span> SE是时候说再见了！慎入"
      ],
      "text/plain": [
       "<IPython.core.display.HTML object>"
      ]
     },
     "metadata": {},
     "output_type": "display_data"
    },
    {
     "data": {
      "text/html": [
       "19、安卓都把风扇做进手机了 为什么<span style=\"color:red\">iPhone</span>还不重视散热"
      ],
      "text/plain": [
       "<IPython.core.display.HTML object>"
      ]
     },
     "metadata": {},
     "output_type": "display_data"
    },
    {
     "data": {
      "text/html": [
       "20、富士康深圳工厂暂停生产<span style=\"color:red\">iPhone</span> 备援厂区已工作：果粉放心"
      ],
      "text/plain": [
       "<IPython.core.display.HTML object>"
      ]
     },
     "metadata": {},
     "output_type": "display_data"
    }
   ],
   "source": [
    "keyword='iphone'\n",
    "search_result=searcher.search(keyword)\n",
    "searcher.render(search_result,keyword)"
   ]
  },
  {
   "cell_type": "code",
   "execution_count": null,
   "metadata": {},
   "outputs": [],
   "source": []
  }
 ],
 "metadata": {
  "kernelspec": {
   "display_name": "Python 3",
   "language": "python",
   "name": "python3"
  },
  "language_info": {
   "codemirror_mode": {
    "name": "ipython",
    "version": 3
   },
   "file_extension": ".py",
   "mimetype": "text/x-python",
   "name": "python",
   "nbconvert_exporter": "python",
   "pygments_lexer": "ipython3",
   "version": "3.8.5"
  }
 },
 "nbformat": 4,
 "nbformat_minor": 1
}
