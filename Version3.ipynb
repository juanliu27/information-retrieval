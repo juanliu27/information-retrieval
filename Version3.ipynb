{
 "cells": [
  {
   "attachments": {},
   "cell_type": "markdown",
   "metadata": {},
   "source": [
    "# 封装成类"
   ]
  },
  {
   "cell_type": "code",
   "execution_count": 2,
   "metadata": {},
   "outputs": [],
   "source": [
    "from IPython.core.display import display,HTML\n",
    "\n",
    "'''\n",
    "搜索引擎基类\n",
    "---------\n",
    "属性：\n",
    "filename:str\n",
    "    数据的文档名\n",
    "---------\n",
    "方法：\n",
    "load_data(filename):\n",
    "    从文档中导入数据\n",
    "hightlight(text,keyword)\n",
    "    高亮文本中的关键词\n",
    "score(text,keyword)\n",
    "    从给查询的文本打分\n",
    "search(keyword)\n",
    "    获得查询结果\n",
    "render(result_list,keyword)\n",
    "    带高亮显示的输出结果\n",
    "'''\n",
    "\n",
    "class MySearchV0():\n",
    "    def __init__(self,filename):\n",
    "        self.docs=[]\n",
    "        self.load_data(filename)\n",
    "        \n",
    "    def load_data(self,filename):\n",
    "        with open(filename) as f:\n",
    "            self.docs=f.read().split('\\n')\n",
    "            \n",
    "    def highlight(self,text,keyword):\n",
    "        idx=text.lower().find(keyword.lower())\n",
    "        result=text\n",
    "        if idx>=0:\n",
    "            ori_keyword=text[idx:idx+len(keyword)]\n",
    "            result=text.replace(ori_keyword,\"<span style='color:red'>{}</span>\".format(ori_keyword))\n",
    "        return result\n",
    "    def score(self,text,keyword):\n",
    "        result=text.lower().count(keyword.lower())\n",
    "        return result\n",
    "    \n",
    "    def search(self,keyword):\n",
    "        result_list=[]\n",
    "        for tid,title in enumerate(self.docs):\n",
    "            if keyword.lower() in title.lower():\n",
    "                result_list.append([tid,self.score(title,keyword)])\n",
    "        result_list.sort(key=lambda x:x[1],reverse=True)\n",
    "        return [doc_id for doc_id,_ in result_list]\n",
    "    \n",
    "    def render(self,result_list,keyword):\n",
    "        count=1\n",
    "        for item in result_list:\n",
    "            display(HTML(\"{}、{}\".format(count,self.highlight(self.docs[item],keyword))))\n",
    "            count+=1"
   ]
  },
  {
   "cell_type": "code",
   "execution_count": 3,
   "metadata": {},
   "outputs": [
    {
     "name": "stdout",
     "output_type": "stream",
     "text": [
      "Help on class MySearchV0 in module __main__:\n",
      "\n",
      "class MySearchV0(builtins.object)\n",
      " |  Methods defined here:\n",
      " |  \n",
      " |  __init__(self, filename)\n",
      " |      Initialize self.  See help(type(self)) for accurate signature.\n",
      " |  \n",
      " |  highlight(self, text, keyword)\n",
      " |  \n",
      " |  load_data(self, filename)\n",
      " |  \n",
      " |  render(self, result_list, keyword)\n",
      " |  \n",
      " |  score(self, text, keyword)\n",
      " |  \n",
      " |  search(self, keyword)\n",
      " |  \n",
      " |  ----------------------------------------------------------------------\n",
      " |  Data descriptors defined here:\n",
      " |  \n",
      " |  __dict__\n",
      " |      dictionary for instance variables (if defined)\n",
      " |  \n",
      " |  __weakref__\n",
      " |      list of weak references to the object (if defined)\n",
      "\n"
     ]
    }
   ],
   "source": [
    "help(MySearchV0)"
   ]
  },
  {
   "cell_type": "code",
   "execution_count": 3,
   "metadata": {
    "collapsed": true
   },
   "outputs": [],
   "source": [
    "searcher=MySearchV0('c:/python data/titles.txt')"
   ]
  },
  {
   "cell_type": "code",
   "execution_count": 4,
   "metadata": {
    "collapsed": true
   },
   "outputs": [],
   "source": [
    "keyword='手机'\n",
    "search_result=searcher.search(keyword)"
   ]
  },
  {
   "cell_type": "code",
   "execution_count": 5,
   "metadata": {},
   "outputs": [
    {
     "data": {
      "text/html": [
       "1、Redmi做了一张<span style='color:red'>手机</span>2K屏幕测试图：你的<span style='color:red'>手机</span>能看清吗"
      ],
      "text/plain": [
       "<IPython.core.display.HTML object>"
      ]
     },
     "metadata": {},
     "output_type": "display_data"
    },
    {
     "data": {
      "text/html": [
       "2、Redmi做了一张<span style='color:red'>手机</span>2K屏幕测试图：你的<span style='color:red'>手机</span>能看清吗"
      ],
      "text/plain": [
       "<IPython.core.display.HTML object>"
      ]
     },
     "metadata": {},
     "output_type": "display_data"
    },
    {
     "data": {
      "text/html": [
       "3、又跟卖<span style='color:red'>手机</span>的学坏招 车企一波更新把续航吸走一半"
      ],
      "text/plain": [
       "<IPython.core.display.HTML object>"
      ]
     },
     "metadata": {},
     "output_type": "display_data"
    },
    {
     "data": {
      "text/html": [
       "4、1月渗透率84%！中国5G<span style='color:red'>手机</span>普及率全球最高"
      ],
      "text/plain": [
       "<IPython.core.display.HTML object>"
      ]
     },
     "metadata": {},
     "output_type": "display_data"
    },
    {
     "data": {
      "text/html": [
       "5、2021全球畅销<span style='color:red'>手机</span>榜单出炉！小米称王 唯一国产品牌"
      ],
      "text/plain": [
       "<IPython.core.display.HTML object>"
      ]
     },
     "metadata": {},
     "output_type": "display_data"
    },
    {
     "data": {
      "text/html": [
       "6、电池涨价离谱！<span style='color:red'>手机</span>、电动车统统都要涨价"
      ],
      "text/plain": [
       "<IPython.core.display.HTML object>"
      ]
     },
     "metadata": {},
     "output_type": "display_data"
    },
    {
     "data": {
      "text/html": [
       "7、国产新机快充屠榜<span style='color:red'>手机</span>行业：快充和充电器成本巨贵"
      ],
      "text/plain": [
       "<IPython.core.display.HTML object>"
      ]
     },
     "metadata": {},
     "output_type": "display_data"
    },
    {
     "data": {
      "text/html": [
       "8、科比曾代言！网友翻出9年前的神机：当年的<span style='color:red'>手机</span>设计天花板"
      ],
      "text/plain": [
       "<IPython.core.display.HTML object>"
      ]
     },
     "metadata": {},
     "output_type": "display_data"
    },
    {
     "data": {
      "text/html": [
       "9、天玑8100<span style='color:red'>手机</span>电竞直屏四大升级！游戏党的最爱"
      ],
      "text/plain": [
       "<IPython.core.display.HTML object>"
      ]
     },
     "metadata": {},
     "output_type": "display_data"
    },
    {
     "data": {
      "text/html": [
       "10、专家建议晚上10点到11点睡觉：看<span style='color:red'>手机</span>或上网导致睡眠拖延"
      ],
      "text/plain": [
       "<IPython.core.display.HTML object>"
      ]
     },
     "metadata": {},
     "output_type": "display_data"
    },
    {
     "data": {
      "text/html": [
       "11、秒开！腾讯：<span style='color:red'>手机</span>QQ一键出示健康码来了"
      ],
      "text/plain": [
       "<IPython.core.display.HTML object>"
      ]
     },
     "metadata": {},
     "output_type": "display_data"
    },
    {
     "data": {
      "text/html": [
       "12、2021全球畅销<span style='color:red'>手机</span>榜单出炉！小米称王 唯一国产品牌"
      ],
      "text/plain": [
       "<IPython.core.display.HTML object>"
      ]
     },
     "metadata": {},
     "output_type": "display_data"
    },
    {
     "data": {
      "text/html": [
       "13、国产新机快充屠榜<span style='color:red'>手机</span>行业：快充和充电器成本巨贵"
      ],
      "text/plain": [
       "<IPython.core.display.HTML object>"
      ]
     },
     "metadata": {},
     "output_type": "display_data"
    },
    {
     "data": {
      "text/html": [
       "14、科比曾代言！网友翻出9年前的神机：当年的<span style='color:red'>手机</span>设计天花板"
      ],
      "text/plain": [
       "<IPython.core.display.HTML object>"
      ]
     },
     "metadata": {},
     "output_type": "display_data"
    },
    {
     "data": {
      "text/html": [
       "15、天玑8100<span style='color:red'>手机</span>电竞直屏四大升级！游戏党的最爱"
      ],
      "text/plain": [
       "<IPython.core.display.HTML object>"
      ]
     },
     "metadata": {},
     "output_type": "display_data"
    },
    {
     "data": {
      "text/html": [
       "16、专家建议晚上10点到11点睡觉：看<span style='color:red'>手机</span>或上网导致睡眠拖延"
      ],
      "text/plain": [
       "<IPython.core.display.HTML object>"
      ]
     },
     "metadata": {},
     "output_type": "display_data"
    },
    {
     "data": {
      "text/html": [
       "17、又跟卖<span style='color:red'>手机</span>的学坏招 车企一波更新把续航吸走一半"
      ],
      "text/plain": [
       "<IPython.core.display.HTML object>"
      ]
     },
     "metadata": {},
     "output_type": "display_data"
    },
    {
     "data": {
      "text/html": [
       "18、电池涨价离谱！<span style='color:red'>手机</span>、电动车统统都要涨价"
      ],
      "text/plain": [
       "<IPython.core.display.HTML object>"
      ]
     },
     "metadata": {},
     "output_type": "display_data"
    }
   ],
   "source": [
    "searcher.render(search_result,keyword)"
   ]
  },
  {
   "cell_type": "code",
   "execution_count": 7,
   "metadata": {
    "collapsed": true
   },
   "outputs": [],
   "source": [
    "from IPython.core.display import display,HTML\n",
    "\n",
    "class MySearchV1(MySearchV0):\n",
    "    '''\n",
    "    V0: Base Class\n",
    "    V1: Data vulunm added\n",
    "\n",
    "    Attributes\n",
    "    ---------\n",
    "    filename:str\n",
    "    multi_factor:int\n",
    "\n",
    "    methods:\n",
    "    ---------\n",
    "    load_data(filename):load data from disk\n",
    "    hightlight(text,keyword)\n",
    "        高亮文本中的关键词\n",
    "    score(text,keyword)\n",
    "        从给查询的文本打分\n",
    "    search(keyword)\n",
    "        获得查询结果\n",
    "    render(result_list,keyword)\n",
    "        带高亮显示的输出结果\n",
    "    '''\n",
    "    def __init__(self,filename,multi_factor=1):\n",
    "        self.docs=[]\n",
    "        self.multi_factor=multi_factor\n",
    "        self.load_data(filename)\n",
    "    def load_data(self,filename):\n",
    "        with open(filename) as f:\n",
    "            self.docs=f.read().split('\\n')\n",
    "            self.docs=self.docs*self.multi_factor\n",
    "        \n"
   ]
  },
  {
   "cell_type": "code",
   "execution_count": 8,
   "metadata": {},
   "outputs": [],
   "source": [
    "searcher=MySearchV1('c:/python data/titles.txt',100000)"
   ]
  },
  {
   "cell_type": "code",
   "execution_count": 9,
   "metadata": {},
   "outputs": [
    {
     "data": {
      "text/plain": [
       "51100000"
      ]
     },
     "execution_count": 9,
     "metadata": {},
     "output_type": "execute_result"
    }
   ],
   "source": [
    "len(searcher.docs)"
   ]
  },
  {
   "cell_type": "code",
   "execution_count": 10,
   "metadata": {},
   "outputs": [
    {
     "name": "stdout",
     "output_type": "stream",
     "text": [
      "Wall time: 34.8 s\n"
     ]
    }
   ],
   "source": [
    "%time searcher_list=searcher.search('手机')"
   ]
  },
  {
   "cell_type": "code",
   "execution_count": 11,
   "metadata": {},
   "outputs": [
    {
     "name": "stdout",
     "output_type": "stream",
     "text": [
      " "
     ]
    }
   ],
   "source": [
    "%prun searcher_list=searcher.search('手机')"
   ]
  },
  {
   "cell_type": "code",
   "execution_count": 15,
   "metadata": {
    "collapsed": true
   },
   "outputs": [],
   "source": [
    "from IPython.core.display import display,HTML\n",
    "import bisect\n",
    "\n",
    "class MySearchV2(MySearchV1):\n",
    "    '''\n",
    "    V0: Base Class\n",
    "    V1: Data vulunm added\n",
    "    V2：Sorting optimization\n",
    "\n",
    "    Attributes\n",
    "    ---------\n",
    "    filename:str\n",
    "    multi_factor:int\n",
    "\n",
    "    methods:\n",
    "    ---------\n",
    "    load_data(filename):load data from disk\n",
    "    hightlight(text,keyword)\n",
    "        高亮文本中的关键词\n",
    "    score(text,keyword)\n",
    "        从给查询的文本打分\n",
    "    search(keyword)\n",
    "        get search result\n",
    "    render(result_list,keyword)\n",
    "        带高亮显示的输出结果\n",
    "    '''\n",
    "    def search(self,keyword,num=10):\n",
    "        result_list=[]\n",
    "        min_score=0\n",
    "        for tid,title in enumerate(self.docs):\n",
    "            if keyword.lower() in title.lower():\n",
    "                score=self.score(title,keyword)\n",
    "                if len(result_list)==num:\n",
    "                    if score>min_score:\n",
    "                        insert_idx=bisect.bisect([doc_score[1] for doc_score in result_list],score)\n",
    "                        result_list=result_list[1:insert_idx]+[(tid,score)]+result_list[insert_idx:]\n",
    "                        min_score=result_list[0][1]\n",
    "                elif len(result_list)<num-1:\n",
    "                    result_list.append((tid,score))                    \n",
    "                elif len(result_list)==num-1:\n",
    "                    result_list.append((tid,score))\n",
    "                    result_list.sort(key=lambda x:x[1])\n",
    "                    min_score=result_list[0][1]\n",
    "        \n",
    "        return [doc_id for doc_id,_ in result_list[::-1]]"
   ]
  },
  {
   "cell_type": "code",
   "execution_count": 16,
   "metadata": {
    "collapsed": true
   },
   "outputs": [],
   "source": [
    "searcher=MySearchV2('c:/python data/titles.txt',100000)"
   ]
  },
  {
   "cell_type": "code",
   "execution_count": 28,
   "metadata": {},
   "outputs": [],
   "source": [
    "keyword='iphone'\n",
    "searcher_result=searcher.search(keyword)"
   ]
  },
  {
   "cell_type": "code",
   "execution_count": 29,
   "metadata": {},
   "outputs": [],
   "source": [
    "searcher.render(searcher_result,keyword)"
   ]
  },
  {
   "cell_type": "code",
   "execution_count": 22,
   "metadata": {},
   "outputs": [
    {
     "name": "stdout",
     "output_type": "stream",
     "text": [
      "Wall time: 33 s\n"
     ]
    }
   ],
   "source": [
    "keyword='手机'\n",
    "%time search_result=searcher.search(keyword)"
   ]
  },
  {
   "cell_type": "code",
   "execution_count": 23,
   "metadata": {},
   "outputs": [
    {
     "name": "stdout",
     "output_type": "stream",
     "text": [
      " "
     ]
    }
   ],
   "source": [
    "%prun search_result=searcher.search(keyword)"
   ]
  },
  {
   "cell_type": "code",
   "execution_count": 36,
   "metadata": {
    "collapsed": true
   },
   "outputs": [],
   "source": [
    "from IPython.core.display import display,HTML\n",
    "import bisect\n",
    "\n",
    "class MySearchV3(MySearchV2):\n",
    "    '''\n",
    "    V0: Base Class\n",
    "    V1: Data vulunm added\n",
    "    V2：Sorting optimization\n",
    "    V3:Add a lowered version of docs\n",
    "\n",
    "    Attributes\n",
    "    ---------\n",
    "    filename:str\n",
    "    multi_factor:int\n",
    "\n",
    "    methods:\n",
    "    ---------\n",
    "    load_data(filename):load data from disk\n",
    "    hightlight(text,keyword)\n",
    "        高亮文本中的关键词\n",
    "    score(text,keyword)\n",
    "        从给查询的文本打分\n",
    "    search(keyword)\n",
    "        get search result\n",
    "    render(result_list,keyword)\n",
    "        带高亮显示的输出结果\n",
    "    '''\n",
    "    def __init__(self,filename,multi_factor=1):\n",
    "        self.docs=[]\n",
    "        self.docs_lower=[]\n",
    "        self.multi_factor=multi_factor\n",
    "        self.load_data(filename)\n",
    "    def load_data(self,filename):\n",
    "        with open(filename) as f:\n",
    "            self.docs=f.read().split('\\n')\n",
    "        self.docs_lower=[doc.lower() for doc in self.docs] #加载的时候小写化，查询不再需要小写化\n",
    "        self.docs=self.docs*self.multi_factor\n",
    "        self.docs_lower=self.docs_lower*self.multi_factor\n",
    "    def highlight(self,text,keyword,ori_text):\n",
    "        idx=text.find(keyword)\n",
    "        result=text\n",
    "        if idx>=0:\n",
    "            ori_keyword=ori_text[idx:idx+len(keyword)]\n",
    "            result=ori_text.replace(ori_keyword,\"<span style='color:red'>{}</span>\".format(ori_keyword))\n",
    "        return result\n",
    "    def score(self,text,keyword):    #text是小写版本参数\n",
    "        result=text.count(keyword)\n",
    "        return result\n",
    "    def search(self,keyword,num=10):\n",
    "        result_list=[]\n",
    "        min_score=0\n",
    "        keyword_lower=keyword.lower()\n",
    "        for tid,title in enumerate(self.docs):\n",
    "            if keyword_lower in title:     #title小写版本数据\n",
    "                score=self.score(title,keyword_lower)\n",
    "                if len(result_list)==num:\n",
    "                    if score>min_score:\n",
    "                        insert_idx=bisect.bisect([doc_score[1] for doc_score in result_list],score)\n",
    "                        result_list=result_list[1:insert_idx]+[(tid,score)]+result_list[insert_idx:]\n",
    "                        min_score=result_list[0][1]\n",
    "                elif len(result_list)<num-1:\n",
    "                    result_list.append((tid,score))                    \n",
    "                elif len(result_list)==num-1:\n",
    "                    result_list.append((tid,score))\n",
    "                    result_list.sort(key=lambda x:x[1])\n",
    "                    min_score=result_list[0][1]\n",
    "        \n",
    "        return [doc_id for doc_id,_ in result_list[::-1]]\n",
    "    def render(self,result_list,keyword):\n",
    "        count=1\n",
    "        for item in result_list:\n",
    "            result=self.highlight(self.docs_lower[item],keyword.lower(),self.docs[item])\n",
    "            display(HTML(\"{}、{}\".format(count,result)))\n",
    "            count+=1"
   ]
  },
  {
   "cell_type": "code",
   "execution_count": 37,
   "metadata": {
    "collapsed": true
   },
   "outputs": [],
   "source": [
    "searcher=MySearchV3('c:/python data/titles.txt',100000)"
   ]
  },
  {
   "cell_type": "code",
   "execution_count": 38,
   "metadata": {
    "collapsed": true
   },
   "outputs": [],
   "source": [
    "keyword='手机'\n",
    "search_result=searcher.search(keyword)"
   ]
  },
  {
   "cell_type": "code",
   "execution_count": 39,
   "metadata": {},
   "outputs": [
    {
     "data": {
      "text/html": [
       "1、Redmi做了一张<span style='color:red'>手机</span>2K屏幕测试图：你的<span style='color:red'>手机</span>能看清吗"
      ],
      "text/plain": [
       "<IPython.core.display.HTML object>"
      ]
     },
     "metadata": {},
     "output_type": "display_data"
    },
    {
     "data": {
      "text/html": [
       "2、Redmi做了一张<span style='color:red'>手机</span>2K屏幕测试图：你的<span style='color:red'>手机</span>能看清吗"
      ],
      "text/plain": [
       "<IPython.core.display.HTML object>"
      ]
     },
     "metadata": {},
     "output_type": "display_data"
    },
    {
     "data": {
      "text/html": [
       "3、Redmi做了一张<span style='color:red'>手机</span>2K屏幕测试图：你的<span style='color:red'>手机</span>能看清吗"
      ],
      "text/plain": [
       "<IPython.core.display.HTML object>"
      ]
     },
     "metadata": {},
     "output_type": "display_data"
    },
    {
     "data": {
      "text/html": [
       "4、Redmi做了一张<span style='color:red'>手机</span>2K屏幕测试图：你的<span style='color:red'>手机</span>能看清吗"
      ],
      "text/plain": [
       "<IPython.core.display.HTML object>"
      ]
     },
     "metadata": {},
     "output_type": "display_data"
    },
    {
     "data": {
      "text/html": [
       "5、Redmi做了一张<span style='color:red'>手机</span>2K屏幕测试图：你的<span style='color:red'>手机</span>能看清吗"
      ],
      "text/plain": [
       "<IPython.core.display.HTML object>"
      ]
     },
     "metadata": {},
     "output_type": "display_data"
    },
    {
     "data": {
      "text/html": [
       "6、Redmi做了一张<span style='color:red'>手机</span>2K屏幕测试图：你的<span style='color:red'>手机</span>能看清吗"
      ],
      "text/plain": [
       "<IPython.core.display.HTML object>"
      ]
     },
     "metadata": {},
     "output_type": "display_data"
    },
    {
     "data": {
      "text/html": [
       "7、Redmi做了一张<span style='color:red'>手机</span>2K屏幕测试图：你的<span style='color:red'>手机</span>能看清吗"
      ],
      "text/plain": [
       "<IPython.core.display.HTML object>"
      ]
     },
     "metadata": {},
     "output_type": "display_data"
    },
    {
     "data": {
      "text/html": [
       "8、Redmi做了一张<span style='color:red'>手机</span>2K屏幕测试图：你的<span style='color:red'>手机</span>能看清吗"
      ],
      "text/plain": [
       "<IPython.core.display.HTML object>"
      ]
     },
     "metadata": {},
     "output_type": "display_data"
    },
    {
     "data": {
      "text/html": [
       "9、Redmi做了一张<span style='color:red'>手机</span>2K屏幕测试图：你的<span style='color:red'>手机</span>能看清吗"
      ],
      "text/plain": [
       "<IPython.core.display.HTML object>"
      ]
     },
     "metadata": {},
     "output_type": "display_data"
    },
    {
     "data": {
      "text/html": [
       "10、Redmi做了一张<span style='color:red'>手机</span>2K屏幕测试图：你的<span style='color:red'>手机</span>能看清吗"
      ],
      "text/plain": [
       "<IPython.core.display.HTML object>"
      ]
     },
     "metadata": {},
     "output_type": "display_data"
    }
   ],
   "source": [
    "searcher.render(search_result,keyword)"
   ]
  },
  {
   "cell_type": "code",
   "execution_count": 40,
   "metadata": {},
   "outputs": [
    {
     "name": "stdout",
     "output_type": "stream",
     "text": [
      "Wall time: 5.03 s\n"
     ]
    }
   ],
   "source": [
    "keyword='手机'\n",
    "%time search_result=searcher.search(keyword)"
   ]
  },
  {
   "cell_type": "code",
   "execution_count": 41,
   "metadata": {},
   "outputs": [
    {
     "name": "stdout",
     "output_type": "stream",
     "text": [
      " "
     ]
    }
   ],
   "source": [
    "%prun search_result=searcher.search(keyword)"
   ]
  },
  {
   "cell_type": "code",
   "execution_count": null,
   "metadata": {
    "collapsed": true
   },
   "outputs": [],
   "source": []
  }
 ],
 "metadata": {
  "kernelspec": {
   "display_name": "Python 3",
   "language": "python",
   "name": "python3"
  },
  "language_info": {
   "codemirror_mode": {
    "name": "ipython",
    "version": 3
   },
   "file_extension": ".py",
   "mimetype": "text/x-python",
   "name": "python",
   "nbconvert_exporter": "python",
   "pygments_lexer": "ipython3",
   "version": "3.8.5"
  }
 },
 "nbformat": 4,
 "nbformat_minor": 4
}
