{
 "cells": [
  {
   "cell_type": "code",
   "execution_count": 4,
   "metadata": {},
   "outputs": [
    {
     "name": "stdout",
     "output_type": "stream",
     "text": [
      "15 processed.\n",
      "30 processed.\n",
      "45 processed.\n",
      "60 processed.\n",
      "75 processed.\n",
      "90 processed.\n",
      "105 processed.\n",
      "120 processed.\n",
      "135 processed.\n",
      "150 processed.\n",
      "165 processed.\n",
      "180 processed.\n",
      "195 processed.\n",
      "210 processed.\n",
      "225 processed.\n",
      "240 processed.\n",
      "255 processed.\n",
      "270 processed.\n",
      "285 processed.\n",
      "300 processed.\n",
      "315 processed.\n"
     ]
    }
   ],
   "source": [
    "import requests  \n",
    "from lxml import etree\n",
    "\n",
    "url = 'https://www.mydrivers.com'  \n",
    "headers = {'user-agent': 'Mozilla/5.0 (Windows NT 10.0; Win64; x64) AppleWebKit/537.36 (KHTML, like Gecko) Chrome/85.0.4183.121 Safari/537.36 Edg/85.0.564.63'}\n",
    "r = requests.get(url, headers=headers)  \n",
    "sel = etree.HTML(r.content)\n",
    "\n",
    "link_set = set()\n",
    "news_list = []\n",
    "count = 0\n",
    "for item in sel.xpath(\"//span[@class='titl']/a\"): \n",
    "    title = item.text\n",
    "    if title:\n",
    "        link = item.attrib['href']\n",
    "        if link not in link_set:\n",
    "            r = requests.get(link, headers=headers)  \n",
    "            sel_c = etree.HTML(r.content)  \n",
    "            text_block = sel_c.xpath(\"//div[@class='news_info']\") \n",
    "            if text_block:\n",
    "                content = ''.join(text_block[0].xpath('./p/text()')).replace('\\n', '').replace('\\r', '').replace('\\t', '')\n",
    "                news_list.append('$$$'.join((title, content, link)))\n",
    "                link_set.add(link)\n",
    "                count += 1\n",
    "                if count % 15 == 0:\n",
    "                    print(count, 'processed.')"
   ]
  },
  {
   "cell_type": "code",
   "execution_count": 7,
   "metadata": {},
   "outputs": [],
   "source": [
    "with open('titles1.txt', 'w',encoding='utf-8') as f:\n",
    "    for line in news_list:\n",
    "        f.write(line)\n",
    "        f.write('\\n')"
   ]
  },
  {
   "cell_type": "code",
   "execution_count": null,
   "metadata": {},
   "outputs": [],
   "source": []
  }
 ],
 "metadata": {
  "kernelspec": {
   "display_name": "Python 3",
   "language": "python",
   "name": "python3"
  },
  "language_info": {
   "codemirror_mode": {
    "name": "ipython",
    "version": 3
   },
   "file_extension": ".py",
   "mimetype": "text/x-python",
   "name": "python",
   "nbconvert_exporter": "python",
   "pygments_lexer": "ipython3",
   "version": "3.8.5"
  }
 },
 "nbformat": 4,
 "nbformat_minor": 1
}
