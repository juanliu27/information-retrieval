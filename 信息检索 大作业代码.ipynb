{
 "cells": [
  {
   "cell_type": "code",
   "execution_count": null,
   "metadata": {},
   "outputs": [],
   "source": [
    "pip install jieba_fast"
   ]
  },
  {
   "cell_type": "code",
   "execution_count": 2,
   "metadata": {},
   "outputs": [],
   "source": [
    "#导入相关包、库\n",
    "import timeit\n",
    "import jieba_fast\n",
    "import os\n",
    "import math\n",
    "import csv\n",
    "\n",
    "#路径设置  \n",
    "path='C:\\\\Users\\\\JYZ'\n",
    "os.chdir(path)"
   ]
  },
  {
   "cell_type": "code",
   "execution_count": null,
   "metadata": {},
   "outputs": [],
   "source": [
    "# 在路径下 建立dict.txt空文档"
   ]
  },
  {
   "cell_type": "code",
   "execution_count": 3,
   "metadata": {},
   "outputs": [
    {
     "name": "stdout",
     "output_type": "stream",
     "text": [
      "Overwriting dict.txt\n"
     ]
    }
   ],
   "source": [
    "%%writefile dict.txt \n",
    "狗"
   ]
  },
  {
   "cell_type": "code",
   "execution_count": 4,
   "metadata": {},
   "outputs": [
    {
     "name": "stdout",
     "output_type": "stream",
     "text": [
      "狗\n",
      "\n"
     ]
    }
   ],
   "source": [
    "#检查是否导入\n",
    "with open('./dict.txt',encoding='utf-8') as f:\n",
    "    content = f.read()\n",
    "print(content)"
   ]
  },
  {
   "cell_type": "code",
   "execution_count": 5,
   "metadata": {},
   "outputs": [],
   "source": [
    "#类\n",
    "class MySearcherV0:\n",
    "    def __init__(self):\n",
    "        self.docs = []\n",
    "        self.load_data()\n",
    "        self.cache={}\n",
    "        self.df = {} #单词和他对应的出现频率\n",
    "        self.avgdl = 0 #平均文本长度\n",
    "        self.build_cache()\n",
    "        jieba.load_userdict(\"dict.txt\")\n",
    "    def load_data(self):#加载数据\n",
    "        with open('./final_homework.csv','r') as f:\n",
    "            reader = csv.reader(f)\n",
    "            for i in reader:\n",
    "                for j in range(len(i)):\n",
    "                    self.docs.append(i[j])\n",
    "    def build_cache(self):#建立缓存 每个关键词在doc_id内出现\n",
    "        word_set = set()\n",
    "        doc_id = 0\n",
    "        doc_length_sum = 0\n",
    "        for doc in self.docs:\n",
    "            doc_word_set = set()\n",
    "            doc_length_sum += len(doc)  \n",
    "            for word in jieba_fast.cut(doc,cut_all = True):\n",
    "                if word not in doc_word_set:\n",
    "                    result_item = doc_id\n",
    "                    if word not in self.cache:\n",
    "                        self.cache[word] = set([result_item])\n",
    "                    else:\n",
    "                        self.cache[word].add(result_item)\n",
    "            #文档频率的计算代码 单词在几个文档中出现\n",
    "                    if word in self.df:\n",
    "                        self.df[word] += 1\n",
    "                    else:\n",
    "                        self.df[word] = 1\n",
    "                    doc_word_set.add(word)\n",
    "            doc_id += 1\n",
    "        self.avgdl = doc_length_sum/len(self.docs) #---added\n",
    "        \n",
    "    def score(self,doc,query,k1 = 2,b=0.75):#BM25\n",
    "        score = 0\n",
    "        sum_N = len(self.docs)\n",
    "        for keyword in jieba.cut(query):\n",
    "            tf_word_set = set()\n",
    "            for word in jieba.cut(doc):\n",
    "                if keyword == word:\n",
    "                    dl = len(doc)\n",
    "                    f = doc.count(word)\n",
    "                    tf = f*(k1+1)/(f+k1*(1-b+b*(dl/self.avgdl)))\n",
    "                    idf = math.log10((sum_N-self.df[word]+0.5)/(self.df[word]+0.5))\n",
    "                    score += tf*idf\n",
    "                tf_word_set.add(word)\n",
    "        return score\n",
    "    \n",
    "    def get_phrase_match(self,phrase):#search 返回含有关键词的doc_id\n",
    "        result = set([])\n",
    "        wid = 0\n",
    "        for word in jieba_fast.cut(phrase):\n",
    "            if word in self.cache:\n",
    "                if wid == 0:\n",
    "                    result = self.cache[word]\n",
    "                    wid += 1\n",
    "                else:\n",
    "                    result = result& self.cache[word]\n",
    "            else:\n",
    "                result = result & set([])\n",
    "        return result\n",
    "    \n",
    "    def conv_query(self,query):#将含与或非逻辑关系的查询 进行切分\n",
    "        query += \" \"\n",
    "        qlen = len(query)\n",
    "        result_parts = []\n",
    "        idx = 0\n",
    "        cache =''\n",
    "        query_keyword = []\n",
    "        result_id_keyword=[]\n",
    "        while idx < qlen:\n",
    "            if query[idx] in ('(',\")\",\" \"):\n",
    "                if cache != \"\":\n",
    "                    if cache.lower() ==\"and\":  #lower() replace()\n",
    "                        result_parts.append(\"&\")\n",
    "                    elif cache.lower() ==\"or\":\n",
    "                        result_parts.append(\"|\")\n",
    "                    elif cache.lower() ==\"not\":\n",
    "                        result_parts.append(\"-\")\n",
    "                    else:\n",
    "                        query_keyword.append(cache)\n",
    "                        result_parts.append(\"self.get_phrase_match('{}')\".format(cache)) #函数\n",
    "                    cache =\"\"\n",
    "                result_parts.append(query[idx])\n",
    "            else:\n",
    "                cache += query[idx]\n",
    "            idx += 1\n",
    "        result_id_keyword.append(eval(''.join(result_parts)))#doc_id\n",
    "        result_id_keyword.append(query_keyword)#keyword\n",
    "        return result_id_keyword\n",
    "\n",
    "\n",
    "    def search(self,query): #rank\n",
    "        '''\n",
    "        新增部分，对结果进行rank排序\n",
    "        对含有 与或非 逻辑关系的query进行得分排序\n",
    "        '''\n",
    "        result = []\n",
    "        result_final = []\n",
    "        result_id_keyword = self.conv_query(query)\n",
    "        for doc_id in result_id_keyword[0]:\n",
    "            score = 0\n",
    "            for subquery in result_id_keyword[1]:\n",
    "                score += self.score(self.docs[doc_id],subquery)\n",
    "            result.append([doc_id,score])\n",
    "        result.sort(key = lambda x:x[1],reverse = True)\n",
    "        result_final.append(result)#doc_id,score\n",
    "        result_final.append(result_id_keyword[1])#keyword\n",
    "        return result_final\n",
    "\n",
    "    def render_search_result_v2(self,query): #格式化输出\n",
    "        result_all = self.search(query)\n",
    "        sorted_result_id_list = [x[0] for x in result_all[0]]\n",
    "        sorted_result_score_list = [x[1] for x in result_all[0]]\n",
    "        result_keyword_lst = result_all[1]\n",
    "        print(\"共检索出\",len(sorted_result_id_list),\"条数据\",\"\\n\",\"--------------分割线-------------\")\n",
    "        for i in range(len(sorted_result_id_list)):\n",
    "            item = sorted_result_id_list[i]\n",
    "            score = sorted_result_score_list[i]\n",
    "            s = self.docs[item]\n",
    "            for word in result_keyword_lst:\n",
    "                keyword_list = []\n",
    "                for keyword in jieba.cut(word):\n",
    "                    keyword_list.append(keyword)\n",
    "                for keyword in keyword_list:\n",
    "                    s = s.replace(keyword,'*{}*'.format(keyword)).strip()\n",
    "            print(\"编号：{}    score：{} \\n{}\".format(item,score,s))\n",
    "            print(\"--------------分割线--------------\")"
   ]
  },
  {
   "cell_type": "code",
   "execution_count": 6,
   "metadata": {
    "scrolled": true
   },
   "outputs": [
    {
     "ename": "FileNotFoundError",
     "evalue": "[Errno 2] No such file or directory: './final_homework.csv'",
     "output_type": "error",
     "traceback": [
      "\u001b[1;31m---------------------------------------------------------------------------\u001b[0m",
      "\u001b[1;31mFileNotFoundError\u001b[0m                         Traceback (most recent call last)",
      "\u001b[1;32m<timed exec>\u001b[0m in \u001b[0;36m<module>\u001b[1;34m\u001b[0m\n",
      "\u001b[1;32m<ipython-input-5-4f04dff53b6b>\u001b[0m in \u001b[0;36m__init__\u001b[1;34m(self)\u001b[0m\n\u001b[0;32m      3\u001b[0m     \u001b[1;32mdef\u001b[0m \u001b[0m__init__\u001b[0m\u001b[1;33m(\u001b[0m\u001b[0mself\u001b[0m\u001b[1;33m)\u001b[0m\u001b[1;33m:\u001b[0m\u001b[1;33m\u001b[0m\u001b[1;33m\u001b[0m\u001b[0m\n\u001b[0;32m      4\u001b[0m         \u001b[0mself\u001b[0m\u001b[1;33m.\u001b[0m\u001b[0mdocs\u001b[0m \u001b[1;33m=\u001b[0m \u001b[1;33m[\u001b[0m\u001b[1;33m]\u001b[0m\u001b[1;33m\u001b[0m\u001b[1;33m\u001b[0m\u001b[0m\n\u001b[1;32m----> 5\u001b[1;33m         \u001b[0mself\u001b[0m\u001b[1;33m.\u001b[0m\u001b[0mload_data\u001b[0m\u001b[1;33m(\u001b[0m\u001b[1;33m)\u001b[0m\u001b[1;33m\u001b[0m\u001b[1;33m\u001b[0m\u001b[0m\n\u001b[0m\u001b[0;32m      6\u001b[0m         \u001b[0mself\u001b[0m\u001b[1;33m.\u001b[0m\u001b[0mcache\u001b[0m\u001b[1;33m=\u001b[0m\u001b[1;33m{\u001b[0m\u001b[1;33m}\u001b[0m\u001b[1;33m\u001b[0m\u001b[1;33m\u001b[0m\u001b[0m\n\u001b[0;32m      7\u001b[0m         \u001b[0mself\u001b[0m\u001b[1;33m.\u001b[0m\u001b[0mdf\u001b[0m \u001b[1;33m=\u001b[0m \u001b[1;33m{\u001b[0m\u001b[1;33m}\u001b[0m \u001b[1;31m#单词和他对应的出现频率\u001b[0m\u001b[1;33m\u001b[0m\u001b[1;33m\u001b[0m\u001b[0m\n",
      "\u001b[1;32m<ipython-input-5-4f04dff53b6b>\u001b[0m in \u001b[0;36mload_data\u001b[1;34m(self)\u001b[0m\n\u001b[0;32m     10\u001b[0m         \u001b[0mjieba\u001b[0m\u001b[1;33m.\u001b[0m\u001b[0mload_userdict\u001b[0m\u001b[1;33m(\u001b[0m\u001b[1;34m\"dict.txt\"\u001b[0m\u001b[1;33m)\u001b[0m\u001b[1;33m\u001b[0m\u001b[1;33m\u001b[0m\u001b[0m\n\u001b[0;32m     11\u001b[0m     \u001b[1;32mdef\u001b[0m \u001b[0mload_data\u001b[0m\u001b[1;33m(\u001b[0m\u001b[0mself\u001b[0m\u001b[1;33m)\u001b[0m\u001b[1;33m:\u001b[0m\u001b[1;31m#加载数据\u001b[0m\u001b[1;33m\u001b[0m\u001b[1;33m\u001b[0m\u001b[0m\n\u001b[1;32m---> 12\u001b[1;33m         \u001b[1;32mwith\u001b[0m \u001b[0mopen\u001b[0m\u001b[1;33m(\u001b[0m\u001b[1;34m'./final_homework.csv'\u001b[0m\u001b[1;33m,\u001b[0m\u001b[1;34m'r'\u001b[0m\u001b[1;33m)\u001b[0m \u001b[1;32mas\u001b[0m \u001b[0mf\u001b[0m\u001b[1;33m:\u001b[0m\u001b[1;33m\u001b[0m\u001b[1;33m\u001b[0m\u001b[0m\n\u001b[0m\u001b[0;32m     13\u001b[0m             \u001b[0mreader\u001b[0m \u001b[1;33m=\u001b[0m \u001b[0mcsv\u001b[0m\u001b[1;33m.\u001b[0m\u001b[0mreader\u001b[0m\u001b[1;33m(\u001b[0m\u001b[0mf\u001b[0m\u001b[1;33m)\u001b[0m\u001b[1;33m\u001b[0m\u001b[1;33m\u001b[0m\u001b[0m\n\u001b[0;32m     14\u001b[0m             \u001b[1;32mfor\u001b[0m \u001b[0mi\u001b[0m \u001b[1;32min\u001b[0m \u001b[0mreader\u001b[0m\u001b[1;33m:\u001b[0m\u001b[1;33m\u001b[0m\u001b[1;33m\u001b[0m\u001b[0m\n",
      "\u001b[1;31mFileNotFoundError\u001b[0m: [Errno 2] No such file or directory: './final_homework.csv'"
     ]
    }
   ],
   "source": [
    "%%time\n",
    "searcher_1x = MySearcherV0()"
   ]
  },
  {
   "cell_type": "code",
   "execution_count": 2,
   "metadata": {},
   "outputs": [],
   "source": [
    "%%time\n",
    "searcher_1x.search('慢性炎症')"
   ]
  },
  {
   "cell_type": "code",
   "execution_count": null,
   "metadata": {},
   "outputs": [],
   "source": [
    "searcher_1x.render_search_result_v2('慢性炎症')"
   ]
  },
  {
   "cell_type": "code",
   "execution_count": 3,
   "metadata": {},
   "outputs": [],
   "source": [
    "%%time\n",
    "searcher_1x.search('(慢性炎症 or 病变) and 右肺')"
   ]
  },
  {
   "cell_type": "code",
   "execution_count": 21,
   "metadata": {},
   "outputs": [
    {
     "name": "stdout",
     "output_type": "stream",
     "text": [
      " "
     ]
    }
   ],
   "source": [
    "searcher_1x.render_search_result_v2('(慢性炎症 or 病变) and 右肺')"
   ]
  }
 ],
 "metadata": {
  "kernelspec": {
   "display_name": "Python 3",
   "language": "python",
   "name": "python3"
  },
  "language_info": {
   "codemirror_mode": {
    "name": "ipython",
    "version": 3
   },
   "file_extension": ".py",
   "mimetype": "text/x-python",
   "name": "python",
   "nbconvert_exporter": "python",
   "pygments_lexer": "ipython3",
   "version": "3.8.5"
  }
 },
 "nbformat": 4,
 "nbformat_minor": 2
}
