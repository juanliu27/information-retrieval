{
 "cells": [
  {
   "cell_type": "code",
   "execution_count": 1,
   "metadata": {},
   "outputs": [],
   "source": [
    "from IPython.core.display import display, HTML\n",
    "import bisect\n",
    "from collections import defaultdict\n",
    "import jieba\n",
    "import pickle\n",
    "\n",
    "class MySearchC4V0():\n",
    "    \"\"\"\n",
    "    C3V0: Base class for Search Engine.\n",
    "    C3V1: Data multiplication added.\n",
    "    C3V2: Sorting optimization.\n",
    "    C3V3: Add lowered version of docs.\n",
    "    C3V4: For long doc.\n",
    "    C3V5: Caching search results.\n",
    "    C3V6: Pre-caching all words in docs.\n",
    "    C3V7: Add Serialize/UnSerialize.\n",
    "    ----------------C4V0-----------------\n",
    "\n",
    "    Attributes\n",
    "    ----------\n",
    "    filename : str\n",
    "        file name of doc data\n",
    "    multi_factor : int\n",
    "        data multiplication factor(default 1)\n",
    "\n",
    "    Methods\n",
    "    -------\n",
    "    load_data(filename):\n",
    "        load data from file.\n",
    "    save_data(filename):\n",
    "        save data to file\n",
    "    pre_cache_all():\n",
    "        Pre-caching all words in docs.\n",
    "    highlight(text, keyword):\n",
    "        highlight text with keyword.\n",
    "    score(text, keyword):\n",
    "        get score of text for a query.\n",
    "    get_word_match(self, keyword):\n",
    "        get doc set containing keyword.\n",
    "    search(keyword, num=15):\n",
    "        get top num search results of a query.\n",
    "    render(result_list, keyword):\n",
    "        output search results with highlight.\n",
    "    \"\"\"\n",
    "    \n",
    "    def __init__(self, filename, multi_factor=1):\n",
    "        self.docs = []\n",
    "        self.docs_lower = []\n",
    "        self.search_cache = defaultdict(set)\n",
    "        self.multi_factor = multi_factor\n",
    "        self.load_data(filename)\n",
    "    \n",
    "    def highlight(self, text, keyword, ori_text):\n",
    "        idx = text.find(keyword)\n",
    "        result = text\n",
    "        if idx >= 0:\n",
    "            ori_keyword = ori_text[idx:idx+len(keyword)]\n",
    "            result = ori_text.replace(ori_keyword, '<span style=\"color:red\">{}</span>'.format(ori_keyword))\n",
    "        return result\n",
    "    \n",
    "    def score(self, text, keyword):\n",
    "        result = text.count(keyword)\n",
    "        return result\n",
    "    \n",
    "    def get_word_match(self, keyword):\n",
    "        result_set = set()\n",
    "        if keyword in self.search_cache: \n",
    "            result_set = self.search_cache[keyword] \n",
    "        else:\n",
    "            for tid, title in enumerate(self.docs_lower):\n",
    "                if keyword in title:\n",
    "                    result_set.add(tid)\n",
    "            self.search_cache[keyword] = result_set\n",
    "        return result_set\n",
    "            \n",
    "    def search(self, keyword, num=15):\n",
    "        keyword_lower = keyword.lower()    \n",
    "        result_list = []\n",
    "        min_score = 0\n",
    "        for tid in self.get_word_match(keyword_lower):\n",
    "            doc = self.docs_lower[tid]\n",
    "            if keyword_lower in doc:\n",
    "                score = self.score(doc, keyword_lower)\n",
    "                if len(result_list) == num:\n",
    "                    if score > min_score:\n",
    "                        insert_idx = bisect.bisect(\n",
    "                            [doc_score[1] for doc_score in result_list], \n",
    "                            score\n",
    "                        )\n",
    "                        min_score = result_list[0][1]\n",
    "                        result_list = result_list[1:insert_idx] + \\\n",
    "                                        [(tid, score)] + \\\n",
    "                                        result_list[insert_idx:]\n",
    "                elif len(result_list) < num - 1:\n",
    "                    result_list.append((tid, score))\n",
    "                elif len(result_list) == num - 1:\n",
    "                    result_list.append((tid, score))\n",
    "                    result_list.sort(key = lambda x: x[1])\n",
    "                    min_score = result_list[0][1]\n",
    "        return [doc_id for doc_id, _ in result_list[::-1]]\n",
    "    \n",
    "    def render(self, result_list, keyword):\n",
    "        count = 1\n",
    "        for item in result_list:\n",
    "            result = self.highlight(\n",
    "                self.docs_lower[item], \n",
    "                keyword.lower(), \n",
    "                self.docs[item]\n",
    "            ).replace('$$$', '<br/>') #\n",
    "            display(HTML(\"{}、{}......\".format(count,result[:150]))) #\n",
    "            count += 1\n",
    "            \n",
    "    def pre_cache_all(self):\n",
    "        for tid, doc in enumerate(self.docs_lower):\n",
    "            for word in jieba.cut_for_search(doc):\n",
    "                self.search_cache[word].add(tid)\n",
    "                \n",
    "    def load_data(self, filename):\n",
    "        if filename[-3:] == 'txt':\n",
    "            with open(filename, 'r',encoding='utf-8') as f:\n",
    "                self.docs = f.read().split('\\n')\n",
    "            self.docs_lower = [doc.lower() for doc in self.docs]\n",
    "            self.docs = self.docs * self.multi_factor \n",
    "            self.docs_lower = self.docs_lower * self.multi_factor\n",
    "            self.pre_cache_all()\n",
    "        elif filename[-3:] == 'dat':\n",
    "            with open(filename, 'rb') as f:\n",
    "                self.docs, self.docs_lower, self.search_cache = pickle.load(f)\n",
    "                \n",
    "    def save_data(self, filename):\n",
    "        with open(filename, 'wb') as f:\n",
    "            pickle.dump((self.docs, self.docs_lower, self.search_cache), f)"
   ]
  },
  {
   "cell_type": "code",
   "execution_count": 2,
   "metadata": {},
   "outputs": [
    {
     "name": "stderr",
     "output_type": "stream",
     "text": [
      "Building prefix dict from the default dictionary ...\n",
      "Loading model from cache C:\\Users\\01630\\AppData\\Local\\Temp\\jieba.cache\n",
      "Loading model cost 0.587 seconds.\n",
      "Prefix dict has been built successfully.\n"
     ]
    }
   ],
   "source": [
    "searcher=MySearchC4V0('c:/python data/titles_l.txt',1)"
   ]
  },
  {
   "cell_type": "code",
   "execution_count": 3,
   "metadata": {
    "collapsed": true
   },
   "outputs": [],
   "source": [
    "searcher.save_data('c:/python data/titles.dat')"
   ]
  },
  {
   "cell_type": "code",
   "execution_count": 4,
   "metadata": {},
   "outputs": [],
   "source": [
    "searcher123=MySearchC4V0('c:/python data/titles.dat',1)"
   ]
  },
  {
   "cell_type": "code",
   "execution_count": 5,
   "metadata": {},
   "outputs": [
    {
     "data": {
      "text/html": [
       "1、电脑能玩<span style=\"color:red\">手机</span>App还能互传文件！快来试试这神器<br/>想把<span style=\"color:red\">手机</span>屏幕投影到电脑屏幕上，还想着使用鼠标键盘甚至大触摸屏来控制<span style=\"color:red\">手机<......"
      ],
      "text/plain": [
       "<IPython.core.display.HTML object>"
      ]
     },
     "metadata": {},
     "output_type": "display_data"
    },
    {
     "data": {
      "text/html": [
       "2、<span style=\"color:red\">手机</span>上很常见的OIS光学防抖：原来也分三六九等<br/><span style=\"color:red\">手机</span>支持OIS光学防抖已经不是什么新鲜事，虽然光学防抖很常见，但也有不同的防抖方案，带来不一样的防抖效果。除了久经沙场的......"
      ],
      "text/plain": [
       "<IPython.core.display.HTML object>"
      ]
     },
     "metadata": {},
     "output_type": "display_data"
    },
    {
     "data": {
      "text/html": [
       "3、边充电边玩<span style=\"color:red\">手机</span>？这些不良习惯可能要改一改了<br/><span style=\"color:red\">手机</span>，早已是大众生活的日常用品，除了年轻用户之外，老年群体或未成年群体也是一个不可忽略的庞大用户群体。然而，科技的进步并没有......"
      ],
      "text/plain": [
       "<IPython.core.display.HTML object>"
      ]
     },
     "metadata": {},
     "output_type": "display_data"
    },
    {
     "data": {
      "text/html": [
       "4、电竞游戏<span style=\"color:red\">手机</span>强在哪？2小时《原神》后我懂了<br/>游戏<span style=\"color:red\">手机</span>作为<span style=\"color:red\">手机</span>品类的重要分支，面向追求极致电竞的玩家。生活中......"
      ],
      "text/plain": [
       "<IPython.core.display.HTML object>"
      ]
     },
     "metadata": {},
     "output_type": "display_data"
    },
    {
     "data": {
      "text/html": [
       "5、卫星电话、高铁不断网：5G新标准神了！<br/>苹果新品将支持卫星通讯的传言已经几次引发广泛讨论，实际上，这一功能的实现并非遥不可及。今年3月下旬3GPP完成了全球5G标准的第三个版本——Release-17的功能性冻结。在Rel-17标准中，就引入了卫星通信的新特性。除此之外，Rel-17的直连通......"
      ],
      "text/plain": [
       "<IPython.core.display.HTML object>"
      ]
     },
     "metadata": {},
     "output_type": "display_data"
    },
    {
     "data": {
      "text/html": [
       "6、乐视掘墓人 想当救世主<br/>十年融资十三轮、一度估值525亿的柔宇科技真的不行了。从财报里的连年亏损到今年曝出的欠薪门，真真假假的各种消息，现在被刘姝威证实了。最近，作为独立董事的她在微信公众号和微博发表近2000字长文呼吁：救救柔宇。这个昔日资本的宠儿，立志要打破三星主导的<span styl......"
      ],
      "text/plain": [
       "<IPython.core.display.HTML object>"
      ]
     },
     "metadata": {},
     "output_type": "display_data"
    },
    {
     "data": {
      "text/html": [
       "7、首发SmartisanOS新品！康佳新海报出炉：一块屏能当N块用<br/>昨天上午，沉寂了许久的SmartisanOS官微突然发文宣布即将回归，并且还透露联合合作伙伴打磨许久的全新硬件也将在几天后发布。综合相关爆料和官方消息，根据昨晚有博主曝光的疑似SmartisanOS新品界面显示，Smartis......"
      ],
      "text/plain": [
       "<IPython.core.display.HTML object>"
      ]
     },
     "metadata": {},
     "output_type": "display_data"
    },
    {
     "data": {
      "text/html": [
       "8、史诗级增强！安卓一哥换机助手可同步微信数据了<br/>对于很多智能<span style=\"color:red\">手机</span>用户来说，每次换新<span style=\"color:red\">手机</span>最痛苦的一件事莫过于导微信数据，由于微信数据通常很大，传输速度又不快，是一件非常麻烦......"
      ],
      "text/plain": [
       "<IPython.core.display.HTML object>"
      ]
     },
     "metadata": {},
     "output_type": "display_data"
    },
    {
     "data": {
      "text/html": [
       "9、酷派、腾讯成立联合实验室：探索下一代操作系统<br/>4月18日，双方将基于腾讯云稳定安全的云基础设施，以及酷派前瞻性的行业洞察，在操作系统、云存储、云计算等领域展开深度合作。酷派集团高级副总裁秦涛表示：“操作系统的未来之争，在于提升电荷与比特的转化效率。通过此次与腾讯云的合作，我们将结合5G、云和......"
      ],
      "text/plain": [
       "<IPython.core.display.HTML object>"
      ]
     },
     "metadata": {},
     "output_type": "display_data"
    },
    {
     "data": {
      "text/html": [
       "10、回归科技创业 罗永浩不再做<span style=\"color:red\">手机</span>！回应：没勇气了<br/>最近，SmartisanOS突然回归引发粉丝关注，不过，从已知信息来看，这次孵化的产品是大屏智能电视。既然系统重出江湖，那么罗永浩回归科技创业赛道预计也进入倒计时了。昨晚（4月16日......"
      ],
      "text/plain": [
       "<IPython.core.display.HTML object>"
      ]
     },
     "metadata": {},
     "output_type": "display_data"
    },
    {
     "data": {
      "text/html": [
       "11、吴京代言！最完美真全面屏预热<br/>今天下午，中兴<span style=\"color:red\">手机</span>官方微博发文欢迎航天英雄回家，同时放出了中兴Axon 40系列预热海报。海报显示，博主@数码闲聊站爆料，此前中兴陆续发布了中兴A20 5G、中兴Axon 30屏下版等屏下摄像头<sp......"
      ],
      "text/plain": [
       "<IPython.core.display.HTML object>"
      ]
     },
     "metadata": {},
     "output_type": "display_data"
    },
    {
     "data": {
      "text/html": [
       "12、罗永浩回应无勇气再做<span style=\"color:red\">手机</span>引热议：重回科技界要做AR产品<br/>近日，罗永浩在微博上与网友互动时，再度提到了<span style=\"color:red\">手机</span>行业，并且引发了大量关注。他还调侃道：“要不然你投吧，只要20个......"
      ],
      "text/plain": [
       "<IPython.core.display.HTML object>"
      ]
     },
     "metadata": {},
     "output_type": "display_data"
    }
   ],
   "source": [
    "search_result=searcher123.search(\"手机\",num=12)\n",
    "searcher123.render(search_result,\"手机\")"
   ]
  },
  {
   "cell_type": "markdown",
   "metadata": {},
   "source": [
    "------------\n",
    "布尔查询，指利用and,or,not等操作符的复合查询，可以实现多个检索关键词的组合，可以考虑集合这种数据结构"
   ]
  },
  {
   "cell_type": "code",
   "execution_count": 12,
   "metadata": {
    "collapsed": true
   },
   "outputs": [],
   "source": [
    "w1=set([2,4,8,16,64,128])\n",
    "w2=set([1,2,3,5,8,16,21,34])\n",
    "w3=set([13,16])"
   ]
  },
  {
   "cell_type": "code",
   "execution_count": 13,
   "metadata": {},
   "outputs": [
    {
     "data": {
      "text/plain": [
       "{2, 8}"
      ]
     },
     "execution_count": 13,
     "metadata": {},
     "output_type": "execute_result"
    }
   ],
   "source": [
    "w1&w2-w3"
   ]
  },
  {
   "cell_type": "code",
   "execution_count": 17,
   "metadata": {},
   "outputs": [
    {
     "data": {
      "text/plain": [
       "{0,\n",
       " 7,\n",
       " 15,\n",
       " 16,\n",
       " 32,\n",
       " 36,\n",
       " 39,\n",
       " 51,\n",
       " 52,\n",
       " 53,\n",
       " 55,\n",
       " 57,\n",
       " 65,\n",
       " 68,\n",
       " 75,\n",
       " 82,\n",
       " 85,\n",
       " 90,\n",
       " 91,\n",
       " 94,\n",
       " 102,\n",
       " 107,\n",
       " 122,\n",
       " 135,\n",
       " 137,\n",
       " 156,\n",
       " 159,\n",
       " 161,\n",
       " 165,\n",
       " 176,\n",
       " 177,\n",
       " 179,\n",
       " 188,\n",
       " 189,\n",
       " 190,\n",
       " 194,\n",
       " 207,\n",
       " 208,\n",
       " 210,\n",
       " 213,\n",
       " 215,\n",
       " 222,\n",
       " 232,\n",
       " 247,\n",
       " 268,\n",
       " 270,\n",
       " 271,\n",
       " 273,\n",
       " 274,\n",
       " 275,\n",
       " 276,\n",
       " 278,\n",
       " 314}"
      ]
     },
     "execution_count": 17,
     "metadata": {},
     "output_type": "execute_result"
    }
   ],
   "source": [
    "searcher.search_cache['手机']"
   ]
  },
  {
   "cell_type": "code",
   "execution_count": 18,
   "metadata": {},
   "outputs": [
    {
     "data": {
      "text/plain": [
       "{44,\n",
       " 47,\n",
       " 53,\n",
       " 66,\n",
       " 80,\n",
       " 94,\n",
       " 119,\n",
       " 147,\n",
       " 149,\n",
       " 156,\n",
       " 165,\n",
       " 172,\n",
       " 191,\n",
       " 196,\n",
       " 247,\n",
       " 258,\n",
       " 262,\n",
       " 263}"
      ]
     },
     "execution_count": 18,
     "metadata": {},
     "output_type": "execute_result"
    }
   ],
   "source": [
    "searcher.search_cache['电脑']"
   ]
  },
  {
   "cell_type": "code",
   "execution_count": 21,
   "metadata": {},
   "outputs": [
    {
     "data": {
      "text/plain": [
       "{53, 94, 156, 165, 247}"
      ]
     },
     "execution_count": 21,
     "metadata": {},
     "output_type": "execute_result"
    }
   ],
   "source": [
    "searcher.search_cache['手机'] & searcher.search_cache['电脑']"
   ]
  },
  {
   "cell_type": "code",
   "execution_count": 23,
   "metadata": {},
   "outputs": [
    {
     "name": "stdout",
     "output_type": "stream",
     "text": [
      "芯片行业：正猛烈巨变$$$五年前，英特尔的市值相当于英伟达和AMD的总和。如今，英伟达的市值与另外两家公司相当。台积电的股价也在飙升，反映出半导体行业在过去10年发生了巨大的变化。就在不久前，英特尔公司还是美国芯片制造商中无可置疑的王者，也是市值最大的半导体公司。而且大多数计算都是通过个人电脑完成的......\n",
      "一张仅6分钱！首款鸿蒙打印机便宜了：到手1749元$$$去年9月，全球首款搭载HarmonyOS的激光打印机——华为PixLab X1正式发布，打印机支持靠近配网、一碰打印、远程打印、身份证智能复印等一系列功能。今日，@华为终端公司 官微宣布，4月18日起至4月19日，作为首款搭载HarmonyOS......\n",
      "5399元！华为MateBook 14非触屏版开售：11代酷睿+2K屏$$$前不久，华为发布MateBook 14非触屏版新款笔记本电脑，与此前发布的MateBook 14不同的是，显示方面，采用一块14英寸的2K全面屏，拥有3:2屏幕比例、90%屏占比，支持100%sRGB广色域、无频闪DC调光、......\n",
      "电脑能玩手机App还能互传文件！快来试试这神器$$$想把手机屏幕投影到电脑屏幕上，还想着使用鼠标键盘甚至大触摸屏来控制手机？AnLink可以满足你。AnLink一款免费的电脑控制手机软件，对比单纯的投屏，还有把手机音频在电脑音箱中播放出来。也就是相当于把手机“摆”上了电脑屏幕，那样你不仅有了大屏，也......\n",
      "峰米跃升中国家用投影第三：激光投影技术实现降维打击$$$中国家用投影机市场的格局已经变了，这一次不仅是销量、销售额的增长。国际知名研究机构IDC发布的《2021年第四季度中国投影机市场跟踪报告》显示，去年国内家用投影机出货量348万台，同比增长16%，销售额124亿元也增长了18,3%。在厂商排名中......\n"
     ]
    }
   ],
   "source": [
    "for d_id in searcher.search_cache['手机'] & searcher.search_cache['电脑']:\n",
    "    print(searcher.docs[d_id][:150]+'......')"
   ]
  },
  {
   "cell_type": "markdown",
   "metadata": {
    "collapsed": true
   },
   "source": [
    "query='手机 + (电脑 not 飞机)'=>'手机&电脑-飞机'"
   ]
  },
  {
   "cell_type": "code",
   "execution_count": 34,
   "metadata": {},
   "outputs": [
    {
     "data": {
      "text/plain": [
       "{53, 94, 156, 165, 247}"
      ]
     },
     "execution_count": 34,
     "metadata": {},
     "output_type": "execute_result"
    }
   ],
   "source": [
    "eval(\"searcher.search_cache['手机'] & searcher.search_cache['电脑']\")"
   ]
  },
  {
   "cell_type": "code",
   "execution_count": 36,
   "metadata": {
    "collapsed": true
   },
   "outputs": [],
   "source": [
    "def get_word_match(word):\n",
    "    return searcher.search_cache[word]"
   ]
  },
  {
   "cell_type": "code",
   "execution_count": 37,
   "metadata": {},
   "outputs": [
    {
     "data": {
      "text/plain": [
       "{53, 94, 156, 165, 247}"
      ]
     },
     "execution_count": 37,
     "metadata": {},
     "output_type": "execute_result"
    }
   ],
   "source": [
    "eval(\"get_word_match('手机') & get_word_match('电脑')\")"
   ]
  },
  {
   "cell_type": "markdown",
   "metadata": {},
   "source": [
    "AND,OR,and,or,+,NOT,not,(,),\" \",''=>&,|,-(,)"
   ]
  },
  {
   "cell_type": "code",
   "execution_count": 48,
   "metadata": {},
   "outputs": [],
   "source": [
    "def query_to_set_expression(query):\n",
    "    all_parts=list(query.replace('(',\" ( \").replace(')',' ) ').split())\n",
    "    query_new_parts=[]\n",
    "    idx=0\n",
    "    cache=''\n",
    "    print(\"seg result:\",\"{}\".format(' '.join(all_parts)))\n",
    "    while idx<len(all_parts):\n",
    "        if all_parts[idx]=='('or all_parts[idx]==')':\n",
    "            query_new_parts.append(all_parts[idx])\n",
    "            print('new_parts:{}'.format(all_parts[idx]))\n",
    "        elif all_parts[idx]==' 'or all_parts[idx]=='':\n",
    "            query_new_parts.append(' ')\n",
    "            print('new_parts:{}'.format(' '))\n",
    "        elif all_parts[idx] in ('and','AND','+'):\n",
    "            query_new_parts.append('&')\n",
    "            print('new_parts:{}'.format('&'))\n",
    "        elif all_parts[idx] in ('OR','or'):\n",
    "            query_new_parts.append('|')\n",
    "            print('new_parts:{}'.format('|'))\n",
    "        elif all_parts[idx] in ('NOT','not'):\n",
    "            query_new_parts.append('-')\n",
    "            print('new_parts:{}'.format('-'))\n",
    "        else:\n",
    "            if cache:\n",
    "                cache+=all_parts[idx]\n",
    "            else:\n",
    "                cache=all_parts[idx]\n",
    "                \n",
    "            if (idx+1==len(all_parts) or all_parts[idx+1] in ('(',')','and','AND','+','OR','or','NOT','not')):\n",
    "                query_new_parts.append(\"get_word_match('{}')\".format(cache))\n",
    "                print(\"new_parts:get_word_match('{}')\".format(cache))\n",
    "            cache=''\n",
    "        idx+=1\n",
    "    query_new=''.join(query_new_parts)\n",
    "    return query_new\n",
    "\n",
    "    \n",
    "            \n"
   ]
  },
  {
   "cell_type": "code",
   "execution_count": 46,
   "metadata": {},
   "outputs": [
    {
     "name": "stdout",
     "output_type": "stream",
     "text": [
      "seg result: 手机 AND 电脑 NOT 咖啡\n",
      "new_parts:get_word_match('手机')\n",
      "new_parts:&\n",
      "new_parts:get_word_match('电脑')\n",
      "new_parts:-\n",
      "new_parts:get_word_match('咖啡')\n"
     ]
    },
    {
     "data": {
      "text/plain": [
       "\"get_word_match('手机')&get_word_match('电脑')-get_word_match('咖啡')\""
      ]
     },
     "execution_count": 46,
     "metadata": {},
     "output_type": "execute_result"
    }
   ],
   "source": [
    "query_to_set_expression('手机 AND 电脑 NOT 咖啡')"
   ]
  },
  {
   "cell_type": "code",
   "execution_count": 1,
   "metadata": {},
   "outputs": [
    {
     "ename": "NameError",
     "evalue": "name 'query_to_set_expression' is not defined",
     "output_type": "error",
     "traceback": [
      "\u001b[1;31m---------------------------------------------------------------------------\u001b[0m",
      "\u001b[1;31mNameError\u001b[0m                                 Traceback (most recent call last)",
      "\u001b[1;32m<ipython-input-1-95b734a10019>\u001b[0m in \u001b[0;36m<module>\u001b[1;34m\u001b[0m\n\u001b[1;32m----> 1\u001b[1;33m \u001b[0meval\u001b[0m\u001b[1;33m(\u001b[0m\u001b[0mquery_to_set_expression\u001b[0m\u001b[1;33m(\u001b[0m\u001b[1;34m''\u001b[0m\u001b[1;33m)\u001b[0m\u001b[1;33m)\u001b[0m\u001b[1;33m\u001b[0m\u001b[1;33m\u001b[0m\u001b[0m\n\u001b[0m",
      "\u001b[1;31mNameError\u001b[0m: name 'query_to_set_expression' is not defined"
     ]
    }
   ],
   "source": [
    "eval(query_to_set_expression(''))"
   ]
  },
  {
   "cell_type": "code",
   "execution_count": 63,
   "metadata": {
    "collapsed": true
   },
   "outputs": [],
   "source": [
    "from IPython.core.display import display, HTML\n",
    "import bisect\n",
    "from collections import defaultdict\n",
    "import jieba\n",
    "import pickle\n",
    "\n",
    "class MySearchC4V1(MySearchC4V0):\n",
    "    \"\"\"\n",
    "    C3V0: Base class for Search Engine.\n",
    "    C3V1: Data multiplication added.\n",
    "    C3V2: Sorting optimization.\n",
    "    C3V3: Add lowered version of docs.\n",
    "    C3V4: For long doc.\n",
    "    C3V5: Caching search results.\n",
    "    C3V6: Pre-caching all words in docs.\n",
    "    C3V7: Add Serialize/UnSerialize.\n",
    "    ----------------C4V0-----------------\n",
    "    C4V1: Add basic bool query\n",
    "\n",
    "    Attributes\n",
    "    ----------\n",
    "    filename : str\n",
    "        file name of doc data\n",
    "    multi_factor : int\n",
    "        data multiplication factor(default 1)\n",
    "\n",
    "    Methods\n",
    "    -------\n",
    "    load_data(filename):\n",
    "        load data from file.\n",
    "    save_data(filename):\n",
    "        save data to file\n",
    "    pre_cache_all():\n",
    "        Pre-caching all words in docs.\n",
    "    highlight(text, keyword):\n",
    "        highlight text with keyword.\n",
    "    score(text, keyword):\n",
    "        get score of text for a query.\n",
    "    get_word_match(self, keyword):\n",
    "        get doc set containing keyword.\n",
    "    search(keyword, num=15):\n",
    "        get top num search results of a query.\n",
    "    render(result_list, keyword):\n",
    "        output search results with highlight.\n",
    "    get_word_match(word):\n",
    "        get match set of the word\n",
    "    \"\"\"\n",
    "    def get_word_match(self,word): \n",
    "        return self.search_cache[word]\n",
    "    def query_to_set_expression(self,query): \n",
    "        all_parts=list(query.replace('(',\" ( \").replace(')',' ) ').split())\n",
    "        query_new_parts=[]\n",
    "        idx=0\n",
    "        cache=''\n",
    "        print(\"seg result:\",\"{}\".format(' '.join(all_parts)))\n",
    "        while idx<len(all_parts):\n",
    "            if all_parts[idx]=='('or all_parts[idx]==')':\n",
    "                query_new_parts.append(all_parts[idx])\n",
    "                print('new_parts:{}'.format(all_parts[idx]))\n",
    "            elif all_parts[idx]==' 'or all_parts[idx]=='':\n",
    "                query_new_parts.append(' ')\n",
    "                print('new_parts:{}'.format(' '))\n",
    "            elif all_parts[idx] in ('and','AND','+'):\n",
    "                query_new_parts.append('&')\n",
    "                print('new_parts:{}'.format('&'))\n",
    "            elif all_parts[idx] in ('OR','or'):\n",
    "                query_new_parts.append('|')\n",
    "                print('new_parts:{}'.format('|'))\n",
    "            elif all_parts[idx] in ('NOT','not'):\n",
    "                query_new_parts.append('-')\n",
    "                print('new_parts:{}'.format('-'))\n",
    "            else:\n",
    "                if cache:\n",
    "                    cache+=all_parts[idx]\n",
    "                else:\n",
    "                    cache=all_parts[idx]\n",
    "\n",
    "                if (idx+1==len(all_parts) or all_parts[idx+1] in ('(',')','and','AND','+','OR',\\\n",
    "                                                                  'or','NOT','not',' ','')):\n",
    "                    query_new_parts.append(\"get_word_match('{}')\".format(cache))\n",
    "                    print(\"new_parts:get_word_match('{}')\".format(cache))\n",
    "                cache=''\n",
    "            idx+=1\n",
    "        query_new=''.join(query_new_parts)\n",
    "        return query_new\n",
    "    def search(self,query, num=15): \n",
    "        query_lower = query.lower()    \n",
    "        result_list = []\n",
    "        min_score = 0\n",
    "        query_new=self.query_to_set_expression(query_lower) #输入一个字符串组合\n",
    "        for tid in eval(query_new):\n",
    "            doc = self.docs_lower[tid]\n",
    "            score=1\n",
    "                            #score = self.score(doc, keyword_lower)\n",
    "            if len(result_list) == num:\n",
    "                if score > min_score:\n",
    "                    insert_idx = bisect.bisect(\n",
    "                        [doc_score[1] for doc_score in result_list], \n",
    "                        score\n",
    "                     )\n",
    "                    min_score = result_list[0][1]\n",
    "                    result_list = result_list[1:insert_idx] + \\\n",
    "                                    [(tid, score)] + \\\n",
    "                                    result_list[insert_idx:]\n",
    "            elif len(result_list) < num - 1:\n",
    "                 result_list.append((tid, score))\n",
    "            elif len(result_list) == num - 1:\n",
    "                result_list.append((tid, score))\n",
    "                result_list.sort(key = lambda x: x[1])\n",
    "                min_score = result_list[0][1]\n",
    "        return [doc_id for doc_id, _ in result_list[::-1]]"
   ]
  },
  {
   "cell_type": "code",
   "execution_count": 64,
   "metadata": {
    "collapsed": true
   },
   "outputs": [],
   "source": [
    "searcher=MySearchC4V1('c:/python data/titles.dat',1)"
   ]
  },
  {
   "cell_type": "code",
   "execution_count": 66,
   "metadata": {},
   "outputs": [
    {
     "name": "stdout",
     "output_type": "stream",
     "text": [
      "seg result: 电脑 and 手机 not 咖啡\n",
      "new_parts:get_word_match('电脑')\n",
      "new_parts:&\n",
      "new_parts:get_word_match('手机')\n",
      "new_parts:-\n",
      "new_parts:get_word_match('咖啡')\n"
     ]
    },
    {
     "data": {
      "text/html": [
       "1、峰米跃升中国家用投影第三：激光投影技术实现降维打击<br/>中国家用投影机市场的格局已经变了，这一次不仅是销量、销售额的增长。国际知名研究机构idc发布的《2021年第四季度中国投影机市场跟踪报告》显示，去年国内家用投影机出货量348万台，同比增长16%，销售额124亿元也增长了18,3%。在厂商排......"
      ],
      "text/plain": [
       "<IPython.core.display.HTML object>"
      ]
     },
     "metadata": {},
     "output_type": "display_data"
    },
    {
     "data": {
      "text/html": [
       "2、电脑能玩手机app还能互传文件！快来试试这神器<br/>想把手机屏幕投影到电脑屏幕上，还想着使用鼠标键盘甚至大触摸屏来控制手机？anlink可以满足你。anlink一款免费的电脑控制手机软件，对比单纯的投屏，还有把手机音频在电脑音箱中播放出来。也就是相当于把手机“摆”上了电脑屏幕，那样你不仅有了大屏......"
      ],
      "text/plain": [
       "<IPython.core.display.HTML object>"
      ]
     },
     "metadata": {},
     "output_type": "display_data"
    },
    {
     "data": {
      "text/html": [
       "3、5399元！华为matebook 14非触屏版开售：11代酷睿+2k屏<br/>前不久，华为发布matebook 14非触屏版新款笔记本电脑，与此前发布的matebook 14不同的是，显示方面，采用一块14英寸的2k全面屏，拥有3:2屏幕比例、90%屏占比，支持100%srgb广色域、无频闪dc调......"
      ],
      "text/plain": [
       "<IPython.core.display.HTML object>"
      ]
     },
     "metadata": {},
     "output_type": "display_data"
    },
    {
     "data": {
      "text/html": [
       "4、一张仅6分钱！首款鸿蒙打印机便宜了：到手1749元<br/>去年9月，全球首款搭载harmonyos的激光打印机——华为pixlab x1正式发布，打印机支持靠近配网、一碰打印、远程打印、身份证智能复印等一系列功能。今日，@华为终端公司 官微宣布，4月18日起至4月19日，作为首款搭载harmony......"
      ],
      "text/plain": [
       "<IPython.core.display.HTML object>"
      ]
     },
     "metadata": {},
     "output_type": "display_data"
    },
    {
     "data": {
      "text/html": [
       "5、芯片行业：正猛烈巨变<br/>五年前，英特尔的市值相当于英伟达和amd的总和。如今，英伟达的市值与另外两家公司相当。台积电的股价也在飙升，反映出半导体行业在过去10年发生了巨大的变化。就在不久前，英特尔公司还是美国芯片制造商中无可置疑的王者，也是市值最大的半导体公司。而且大多数计算都是通过个人电脑完......"
      ],
      "text/plain": [
       "<IPython.core.display.HTML object>"
      ]
     },
     "metadata": {},
     "output_type": "display_data"
    }
   ],
   "source": [
    "query='电脑 AND 手机 NOT 咖啡'\n",
    "search_result=searcher.search(query,num=10)\n",
    "searcher.render(search_result,query)"
   ]
  },
  {
   "cell_type": "code",
   "execution_count": null,
   "metadata": {
    "collapsed": true
   },
   "outputs": [],
   "source": []
  }
 ],
 "metadata": {
  "kernelspec": {
   "display_name": "Python 3",
   "language": "python",
   "name": "python3"
  },
  "language_info": {
   "codemirror_mode": {
    "name": "ipython",
    "version": 3
   },
   "file_extension": ".py",
   "mimetype": "text/x-python",
   "name": "python",
   "nbconvert_exporter": "python",
   "pygments_lexer": "ipython3",
   "version": "3.8.5"
  }
 },
 "nbformat": 4,
 "nbformat_minor": 2
}
